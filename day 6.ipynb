{
 "cells": [
  {
   "cell_type": "markdown",
   "id": "5f60c4cf",
   "metadata": {},
   "source": [
    "Day 6"
   ]
  },
  {
   "cell_type": "markdown",
   "id": "bb78c4fe",
   "metadata": {},
   "source": [
    "#Dictionaries"
   ]
  },
  {
   "cell_type": "code",
   "execution_count": 1,
   "id": "098fdb13",
   "metadata": {},
   "outputs": [
    {
     "name": "stdout",
     "output_type": "stream",
     "text": [
      "{}\n",
      "<class 'dict'>\n"
     ]
    }
   ],
   "source": [
    "# How to create empty dictionaries\n",
    "\n",
    "a={}\n",
    "print (a)\n",
    "print(type(a))"
   ]
  },
  {
   "cell_type": "code",
   "execution_count": 3,
   "id": "acd8b3a4",
   "metadata": {},
   "outputs": [
    {
     "name": "stdout",
     "output_type": "stream",
     "text": [
      "{}\n",
      "<class 'dict'>\n"
     ]
    }
   ],
   "source": [
    "\n",
    "a=dict()\n",
    "print (a)\n",
    "print(type(a))"
   ]
  },
  {
   "cell_type": "code",
   "execution_count": 7,
   "id": "22a910ba",
   "metadata": {},
   "outputs": [],
   "source": [
    "# adding values to the dict\n",
    "\n",
    "a[\"Name 1\"]=\"Govind\"\n"
   ]
  },
  {
   "cell_type": "code",
   "execution_count": 8,
   "id": "16ed0435",
   "metadata": {},
   "outputs": [
    {
     "data": {
      "text/plain": [
       "{'Name 1': 'Govind'}"
      ]
     },
     "execution_count": 8,
     "metadata": {},
     "output_type": "execute_result"
    }
   ],
   "source": [
    "a"
   ]
  },
  {
   "cell_type": "code",
   "execution_count": 9,
   "id": "38e57122",
   "metadata": {},
   "outputs": [
    {
     "data": {
      "text/plain": [
       "{'Name 1': 'Govind',\n",
       " 'Name 2': 'Praveen',\n",
       " 'Name 3': 'Harish',\n",
       " 'Name 4': 'Mukesh'}"
      ]
     },
     "execution_count": 9,
     "metadata": {},
     "output_type": "execute_result"
    }
   ],
   "source": [
    "a[\"Name 2\"]=\"Praveen\"\n",
    "a[\"Name 3\"]=\"Harish\"\n",
    "a[\"Name 4\"]=\"Mukesh\"\n",
    "a"
   ]
  },
  {
   "cell_type": "code",
   "execution_count": 10,
   "id": "e60cd49d",
   "metadata": {},
   "outputs": [
    {
     "data": {
      "text/plain": [
       "'Praveen'"
      ]
     },
     "execution_count": 10,
     "metadata": {},
     "output_type": "execute_result"
    }
   ],
   "source": [
    "a[\"Name 2\"]"
   ]
  },
  {
   "cell_type": "code",
   "execution_count": 11,
   "id": "2e3ea17f",
   "metadata": {},
   "outputs": [
    {
     "data": {
      "text/plain": [
       "'Please enter Right Key'"
      ]
     },
     "execution_count": 11,
     "metadata": {},
     "output_type": "execute_result"
    }
   ],
   "source": [
    "a.get(\"Name2\",\"Please enter Right Key\")"
   ]
  },
  {
   "cell_type": "code",
   "execution_count": 16,
   "id": "cc110b7e",
   "metadata": {},
   "outputs": [
    {
     "data": {
      "text/plain": [
       "{111: 'hello', 222: 123, 333: [5, 6, 7], 444: 7.8}"
      ]
     },
     "execution_count": 16,
     "metadata": {},
     "output_type": "execute_result"
    }
   ],
   "source": [
    "d1={}\n",
    "d1[111]=\"hello\"\n",
    "d1[222]=123\n",
    "d1[333]=[5,6,7]\n",
    "d1[444]=7.8\n",
    "d1"
   ]
  },
  {
   "cell_type": "code",
   "execution_count": 17,
   "id": "dd7d2cff",
   "metadata": {},
   "outputs": [
    {
     "data": {
      "text/plain": [
       "7.8"
      ]
     },
     "execution_count": 17,
     "metadata": {},
     "output_type": "execute_result"
    }
   ],
   "source": [
    "#using get()\n",
    "\n",
    "d1[444]"
   ]
  },
  {
   "cell_type": "code",
   "execution_count": 18,
   "id": "78503970",
   "metadata": {},
   "outputs": [
    {
     "ename": "KeyError",
     "evalue": "555",
     "output_type": "error",
     "traceback": [
      "\u001b[1;31m---------------------------------------------------------------------------\u001b[0m",
      "\u001b[1;31mKeyError\u001b[0m                                  Traceback (most recent call last)",
      "\u001b[1;32m<ipython-input-18-005be9e44f4c>\u001b[0m in \u001b[0;36m<module>\u001b[1;34m\u001b[0m\n\u001b[1;32m----> 1\u001b[1;33m \u001b[0md1\u001b[0m\u001b[1;33m[\u001b[0m\u001b[1;36m555\u001b[0m\u001b[1;33m]\u001b[0m\u001b[1;33m\u001b[0m\u001b[1;33m\u001b[0m\u001b[0m\n\u001b[0m",
      "\u001b[1;31mKeyError\u001b[0m: 555"
     ]
    }
   ],
   "source": [
    "d1[555]"
   ]
  },
  {
   "cell_type": "code",
   "execution_count": 21,
   "id": "095731c6",
   "metadata": {},
   "outputs": [],
   "source": [
    "d1.get(555)"
   ]
  },
  {
   "cell_type": "code",
   "execution_count": 22,
   "id": "c210f8e1",
   "metadata": {},
   "outputs": [
    {
     "data": {
      "text/plain": [
       "'No Key Exist'"
      ]
     },
     "execution_count": 22,
     "metadata": {},
     "output_type": "execute_result"
    }
   ],
   "source": [
    "d1.get(555,\"No Key Exist\")"
   ]
  },
  {
   "cell_type": "code",
   "execution_count": 24,
   "id": "f1c411ea",
   "metadata": {},
   "outputs": [
    {
     "data": {
      "text/plain": [
       "dict_keys([111, 222, 333, 444])"
      ]
     },
     "execution_count": 24,
     "metadata": {},
     "output_type": "execute_result"
    }
   ],
   "source": [
    "#User define functions\n",
    "# to extract only keys\n",
    "\n",
    "d1.keys()"
   ]
  },
  {
   "cell_type": "code",
   "execution_count": 25,
   "id": "891285f5",
   "metadata": {},
   "outputs": [
    {
     "data": {
      "text/plain": [
       "dict_values(['hello', 123, [5, 6, 7], 7.8])"
      ]
     },
     "execution_count": 25,
     "metadata": {},
     "output_type": "execute_result"
    }
   ],
   "source": [
    "#Only Values\n",
    "\n",
    "d1.values()"
   ]
  },
  {
   "cell_type": "code",
   "execution_count": 26,
   "id": "71e6d72f",
   "metadata": {},
   "outputs": [
    {
     "data": {
      "text/plain": [
       "dict_items([(111, 'hello'), (222, 123), (333, [5, 6, 7]), (444, 7.8)])"
      ]
     },
     "execution_count": 26,
     "metadata": {},
     "output_type": "execute_result"
    }
   ],
   "source": [
    "# to extract key and values\n",
    "\n",
    "d1.items()"
   ]
  },
  {
   "cell_type": "code",
   "execution_count": 27,
   "id": "028bd456",
   "metadata": {},
   "outputs": [],
   "source": [
    "thisdict = {\n",
    "    \"brand\": \"Ford\",\n",
    "    \"electric\":False,\n",
    "    \"year\":1964,\n",
    "    \"colors\":[\"red\",\"white\",\"blue\"]\n",
    "    \n",
    "}"
   ]
  },
  {
   "cell_type": "code",
   "execution_count": 29,
   "id": "53db5a8e",
   "metadata": {},
   "outputs": [
    {
     "data": {
      "text/plain": [
       "'white'"
      ]
     },
     "execution_count": 29,
     "metadata": {},
     "output_type": "execute_result"
    }
   ],
   "source": [
    "thisdict[\"colors\"][1]"
   ]
  },
  {
   "cell_type": "code",
   "execution_count": 35,
   "id": "b4561799",
   "metadata": {},
   "outputs": [
    {
     "name": "stdout",
     "output_type": "stream",
     "text": [
      "Enter Name of Student(Key)Govind\n",
      "Enter Marks of Student(Value)7\n",
      "Enter Name of Student(Key)PRaveen\n",
      "Enter Marks of Student(Value)8\n",
      "Enter Name of Student(Key)Harish\n",
      "Enter Marks of Student(Value)9\n"
     ]
    }
   ],
   "source": [
    "# making dict from scratch and taking\n",
    "\n",
    "data={}\n",
    "\n",
    "for i in range(3):\n",
    "    key=input(\"Enter Name of Student(Key)\")\n",
    "    value=float(input(\"Enter Marks of Student(Value)\"))\n",
    "    data.update({key:value})\n",
    "    \n"
   ]
  },
  {
   "cell_type": "code",
   "execution_count": null,
   "id": "d6c5e392",
   "metadata": {},
   "outputs": [],
   "source": []
  },
  {
   "cell_type": "code",
   "execution_count": 34,
   "id": "5aa79700",
   "metadata": {},
   "outputs": [
    {
     "data": {
      "text/plain": [
       "{'asdasd': 54.0, 'dsfsdf': 67.0, 'dsfsf': 87.0}"
      ]
     },
     "execution_count": 34,
     "metadata": {},
     "output_type": "execute_result"
    }
   ],
   "source": [
    "data"
   ]
  },
  {
   "cell_type": "code",
   "execution_count": 36,
   "id": "ba022539",
   "metadata": {},
   "outputs": [
    {
     "data": {
      "text/plain": [
       "dict_keys(['Govind', 'PRaveen', 'Harish'])"
      ]
     },
     "execution_count": 36,
     "metadata": {},
     "output_type": "execute_result"
    }
   ],
   "source": [
    "# print only student name\n",
    "\n",
    "data.keys()"
   ]
  },
  {
   "cell_type": "code",
   "execution_count": 37,
   "id": "6e9207c4",
   "metadata": {},
   "outputs": [
    {
     "data": {
      "text/plain": [
       "dict_values([7.0, 8.0, 9.0])"
      ]
     },
     "execution_count": 37,
     "metadata": {},
     "output_type": "execute_result"
    }
   ],
   "source": [
    "# print only marks\n",
    "\n",
    "data.values()"
   ]
  },
  {
   "cell_type": "code",
   "execution_count": 46,
   "id": "e1c45ad5",
   "metadata": {},
   "outputs": [
    {
     "data": {
      "text/plain": [
       "dict_values([7.0, 8.0, 9.0])"
      ]
     },
     "execution_count": 46,
     "metadata": {},
     "output_type": "execute_result"
    }
   ],
   "source": [
    "# print Maximum Marks's \n",
    "\n",
    "marks=data.values()\n",
    "marks"
   ]
  },
  {
   "cell_type": "code",
   "execution_count": 47,
   "id": "274acf44",
   "metadata": {},
   "outputs": [
    {
     "data": {
      "text/plain": [
       "9.0"
      ]
     },
     "execution_count": 47,
     "metadata": {},
     "output_type": "execute_result"
    }
   ],
   "source": [
    "#Max\n",
    "max(marks)"
   ]
  },
  {
   "cell_type": "code",
   "execution_count": 48,
   "id": "7c78850e",
   "metadata": {},
   "outputs": [
    {
     "data": {
      "text/plain": [
       "7.0"
      ]
     },
     "execution_count": 48,
     "metadata": {},
     "output_type": "execute_result"
    }
   ],
   "source": [
    "#Min\n",
    "min(marks)\n"
   ]
  },
  {
   "cell_type": "code",
   "execution_count": 57,
   "id": "ad72597e",
   "metadata": {},
   "outputs": [
    {
     "name": "stdout",
     "output_type": "stream",
     "text": [
      "Name of the Student scoring max marks: Harish\n"
     ]
    }
   ],
   "source": [
    "# print Maximum Marks\n",
    "\n",
    "s=max(data,key=data.get)\n",
    "print (\"Name of the Student scoring max marks:\", s)\n"
   ]
  },
  {
   "cell_type": "code",
   "execution_count": 59,
   "id": "0ae7a8ec",
   "metadata": {},
   "outputs": [
    {
     "name": "stdout",
     "output_type": "stream",
     "text": [
      "Name of the Student scoring min marks: Govind\n"
     ]
    }
   ],
   "source": [
    "# print Minimum Marks\n",
    "\n",
    "s1=min(data,key=data.get)\n",
    "print (\"Name of the Student scoring min marks:\", s1)\n"
   ]
  },
  {
   "cell_type": "code",
   "execution_count": 65,
   "id": "affa2c04",
   "metadata": {},
   "outputs": [
    {
     "name": "stdout",
     "output_type": "stream",
     "text": [
      "Harish of the Student scoring max marks: 9.0\n"
     ]
    }
   ],
   "source": [
    "# print Maximum Marks\n",
    "\n",
    "s=max(data,key=data.get)\n",
    "m=data.get(s)\n",
    "print (s,\"of the Student scoring max marks:\", m)\n"
   ]
  },
  {
   "cell_type": "code",
   "execution_count": 66,
   "id": "0d832539",
   "metadata": {},
   "outputs": [
    {
     "data": {
      "text/plain": [
       "{'Name': 'S1', 'Marks': 7, 'RollNo': 12}"
      ]
     },
     "execution_count": 66,
     "metadata": {},
     "output_type": "execute_result"
    }
   ],
   "source": [
    "s_data={\n",
    "    \"Name\":\"S1\",\n",
    "    \"Marks\":7,\n",
    "    \"RollNo\":12\n",
    "}\n",
    "s_data"
   ]
  },
  {
   "cell_type": "code",
   "execution_count": 69,
   "id": "2f61b453",
   "metadata": {},
   "outputs": [
    {
     "name": "stdout",
     "output_type": "stream",
     "text": [
      "Enter Name :Govind\n",
      "Marks :45\n",
      "Roll Number :101\n"
     ]
    }
   ],
   "source": [
    "s_data={}\n",
    "\n",
    "n=input(\"Enter Name :\")\n",
    "s_data.update({\"Name\":n})\n",
    "m=float(input(\"Marks :\"))\n",
    "s_data.update({\"Marks\":m})\n",
    "r=int(input(\"Roll Number :\"))\n",
    "s_data.update({\"Roll No\":r})        \n",
    "\n"
   ]
  },
  {
   "cell_type": "code",
   "execution_count": 71,
   "id": "dd1e67a8",
   "metadata": {},
   "outputs": [
    {
     "data": {
      "text/plain": [
       "{'Name': 'Govind', 'Marks': 45.0, 'Roll No': 101}"
      ]
     },
     "execution_count": 71,
     "metadata": {},
     "output_type": "execute_result"
    }
   ],
   "source": [
    "s_data"
   ]
  },
  {
   "cell_type": "code",
   "execution_count": 76,
   "id": "6d80f71e",
   "metadata": {},
   "outputs": [
    {
     "name": "stdout",
     "output_type": "stream",
     "text": [
      "Name :GOvind\n",
      "Marks :23\n",
      "Roll No:1\n",
      "Name :PRaveen\n",
      "Marks :24\n",
      "Roll No:2\n",
      "Name :Harish\n",
      "Marks :34\n",
      "Roll No:3\n",
      "['GOvind', 'PRaveen', 'Harish']\n",
      "[23.0, 24.0, 34.0]\n",
      "[1, 2, 3]\n"
     ]
    }
   ],
   "source": [
    "data1={}\n",
    "\n",
    "n=[]\n",
    "m=[]\n",
    "r=[]\n",
    "\n",
    "for i in range(3):\n",
    "    name=input(\"Name :\")\n",
    "    n.append(name)\n",
    "    marks=float(input(\"Marks :\"))\n",
    "    m.append(marks)\n",
    "    roll=int(input(\"Roll No:\"))\n",
    "    r.append(roll)\n",
    "    \n",
    "\n",
    "print(n)\n",
    "\n",
    "print(m)\n",
    "\n",
    "print(r)"
   ]
  },
  {
   "cell_type": "code",
   "execution_count": 78,
   "id": "a4b434b0",
   "metadata": {},
   "outputs": [
    {
     "data": {
      "text/plain": [
       "{'Name': ['GOvind', 'PRaveen', 'Harish'],\n",
       " 'Marks': [23.0, 24.0, 34.0],\n",
       " 'Roll No': [1, 2, 3]}"
      ]
     },
     "execution_count": 78,
     "metadata": {},
     "output_type": "execute_result"
    }
   ],
   "source": [
    "data1.update({\"Name\":n})\n",
    "data1.update({\"Marks\":m})\n",
    "data1.update({\"Roll No\":r})\n",
    "\n",
    "data1"
   ]
  },
  {
   "cell_type": "code",
   "execution_count": 4,
   "id": "a6e2f452",
   "metadata": {},
   "outputs": [
    {
     "data": {
      "text/plain": [
       "{'Name': 'Praveen', 'Number': '7976233293'}"
      ]
     },
     "execution_count": 4,
     "metadata": {},
     "output_type": "execute_result"
    }
   ],
   "source": [
    "\n",
    "a=dict()\n",
    "a[\"Name\"]=\"Praveen\"\n",
    "a[\"Number\"]=\"7976233293\"\n",
    "a"
   ]
  },
  {
   "cell_type": "code",
   "execution_count": 15,
   "id": "eba180ed",
   "metadata": {},
   "outputs": [
    {
     "name": "stdout",
     "output_type": "stream",
     "text": [
      "Enter Name :1\n",
      "Enter Name :2\n",
      "Enter Name :3\n"
     ]
    },
    {
     "data": {
      "text/plain": [
       "{0: '1', 1: '2', 2: '3'}"
      ]
     },
     "execution_count": 15,
     "metadata": {},
     "output_type": "execute_result"
    }
   ],
   "source": [
    "data1=dict()\n",
    "\n",
    "for i in range(3):\n",
    "    n=input(\"Enter Name :\")\n",
    "    data1.update({i:n})\n",
    "\n",
    "data1"
   ]
  },
  {
   "cell_type": "code",
   "execution_count": 16,
   "id": "0f79f7dc",
   "metadata": {},
   "outputs": [
    {
     "name": "stdout",
     "output_type": "stream",
     "text": [
      "Enter Name of Student(Key)Praveen\n",
      "Enter Marks of Student(Value)2\n",
      "Enter Name of Student(Key)Harish\n",
      "Enter Marks of Student(Value)3\n",
      "Enter Name of Student(Key)Mukesh\n",
      "Enter Marks of Student(Value)4\n"
     ]
    }
   ],
   "source": [
    "data={}\n",
    "\n",
    "for i in range(3):\n",
    "    key=input(\"Enter Name of Student(Key)\")\n",
    "    value=float(input(\"Enter Marks of Student(Value)\"))\n",
    "    data.update({key:value})\n",
    "    \n"
   ]
  },
  {
   "cell_type": "code",
   "execution_count": 17,
   "id": "c7e87e93",
   "metadata": {},
   "outputs": [
    {
     "data": {
      "text/plain": [
       "{'Praveen': 2.0, 'Harish': 3.0, 'Mukesh': 4.0}"
      ]
     },
     "execution_count": 17,
     "metadata": {},
     "output_type": "execute_result"
    }
   ],
   "source": [
    "data"
   ]
  },
  {
   "cell_type": "code",
   "execution_count": 18,
   "id": "9c28adc6",
   "metadata": {},
   "outputs": [
    {
     "data": {
      "text/plain": [
       "'Praveen'"
      ]
     },
     "execution_count": 18,
     "metadata": {},
     "output_type": "execute_result"
    }
   ],
   "source": [
    "max(data)"
   ]
  },
  {
   "cell_type": "code",
   "execution_count": 19,
   "id": "bcdfa14d",
   "metadata": {},
   "outputs": [
    {
     "data": {
      "text/plain": [
       "'Harish'"
      ]
     },
     "execution_count": 19,
     "metadata": {},
     "output_type": "execute_result"
    }
   ],
   "source": [
    "min(data)"
   ]
  },
  {
   "cell_type": "code",
   "execution_count": 21,
   "id": "58f50d71",
   "metadata": {},
   "outputs": [
    {
     "name": "stdout",
     "output_type": "stream",
     "text": [
      "Praveen\n"
     ]
    }
   ],
   "source": [
    "x=min(data,key=data.get)\n",
    "print(x)"
   ]
  },
  {
   "cell_type": "code",
   "execution_count": 24,
   "id": "72824c83",
   "metadata": {},
   "outputs": [
    {
     "name": "stdout",
     "output_type": "stream",
     "text": [
      "Mukesh\n"
     ]
    }
   ],
   "source": [
    "y=max(data,key=data.get)\n",
    "print(y)"
   ]
  },
  {
   "cell_type": "code",
   "execution_count": null,
   "id": "cf0cd8ca",
   "metadata": {},
   "outputs": [],
   "source": []
  },
  {
   "cell_type": "code",
   "execution_count": null,
   "id": "eb14a3dd",
   "metadata": {},
   "outputs": [],
   "source": []
  }
 ],
 "metadata": {
  "kernelspec": {
   "display_name": "Python 3",
   "language": "python",
   "name": "python3"
  },
  "language_info": {
   "codemirror_mode": {
    "name": "ipython",
    "version": 3
   },
   "file_extension": ".py",
   "mimetype": "text/x-python",
   "name": "python",
   "nbconvert_exporter": "python",
   "pygments_lexer": "ipython3",
   "version": "3.8.8"
  }
 },
 "nbformat": 4,
 "nbformat_minor": 5
}
