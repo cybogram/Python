{
 "cells": [
  {
   "cell_type": "markdown",
   "id": "434e0b43",
   "metadata": {},
   "source": [
    "##DAY 4"
   ]
  },
  {
   "cell_type": "code",
   "execution_count": 7,
   "id": "c4bccb69",
   "metadata": {},
   "outputs": [
    {
     "name": "stdout",
     "output_type": "stream",
     "text": [
      "First No.25\n",
      "Second No.75\n",
      "Enter 1 to Add, 2 to Subtract, 3 to Multiply, 4 to divide, 5 to exit1\n",
      "Addition :  100.0\n",
      "Enter 1 to Add, 2 to Subtract, 3 to Multiply, 4 to divide, 5 to exit2\n",
      "Substract :  -50.0\n",
      "Enter 1 to Add, 2 to Subtract, 3 to Multiply, 4 to divide, 5 to exit3\n",
      "Multiply :  1875.0\n",
      "Enter 1 to Add, 2 to Subtract, 3 to Multiply, 4 to divide, 5 to exit4\n",
      "Division :  0.3333333333333333\n",
      "Enter 1 to Add, 2 to Subtract, 3 to Multiply, 4 to divide, 5 to exit5\n"
     ]
    }
   ],
   "source": [
    "#make a simple calculator\n",
    "\n",
    "a=float(input(\"First No.\"))\n",
    "b=float(input(\"Second No.\"))\n",
    "\n",
    "while(True):\n",
    "    op=int(input(\"Enter 1 to Add, 2 to Subtract, 3 to Multiply, 4 to divide, 5 to exit\"))\n",
    "\n",
    "    if(op==1):\n",
    "        print(\"Addition : \",a+b)\n",
    "    elif(op==2):\n",
    "        print(\"Substract : \",a-b)\n",
    "    elif(op==3):\n",
    "        print(\"Multiply : \",a*b)\n",
    "    elif(op==4):\n",
    "        print(\"Division : \",a/b)\n",
    "    elif(op==5):\n",
    "        break\n",
    "    else:\n",
    "        print(\"Press 1,2,3,4\")\n"
   ]
  },
  {
   "cell_type": "markdown",
   "id": "6f765aa3",
   "metadata": {},
   "source": [
    "#Function\n"
   ]
  },
  {
   "cell_type": "code",
   "execution_count": 11,
   "id": "b8ff044e",
   "metadata": {},
   "outputs": [
    {
     "name": "stdout",
     "output_type": "stream",
     "text": [
      "This is inside function\n",
      "This is outside the function\n"
     ]
    }
   ],
   "source": [
    "def myfun():\n",
    "    print(\"This is inside function\")\n",
    "\n",
    "myfun()\n",
    "print(\"This is outside the function\")\n"
   ]
  },
  {
   "cell_type": "code",
   "execution_count": 12,
   "id": "f0e26ba9",
   "metadata": {},
   "outputs": [
    {
     "name": "stdout",
     "output_type": "stream",
     "text": [
      "This is outside the function\n",
      "This is inside function\n"
     ]
    }
   ],
   "source": [
    "def myfun():\n",
    "    print(\"This is inside function\")\n",
    "\n",
    "print(\"This is outside the function\")\n",
    "myfun()"
   ]
  },
  {
   "cell_type": "code",
   "execution_count": 13,
   "id": "4d54b7bb",
   "metadata": {},
   "outputs": [
    {
     "name": "stdout",
     "output_type": "stream",
     "text": [
      "Outside\n",
      "this is fun2\n",
      "This is inside function\n"
     ]
    }
   ],
   "source": [
    "def myfunction():\n",
    "    print(\"This is inside function\")\n",
    "    \n",
    "def function2():\n",
    "    print(\"this is fun2\")\n",
    "    myfunction()\n",
    "    \n",
    "print(\"Outside\")\n",
    "function2()\n"
   ]
  },
  {
   "cell_type": "code",
   "execution_count": 17,
   "id": "fe114971",
   "metadata": {},
   "outputs": [
    {
     "name": "stdout",
     "output_type": "stream",
     "text": [
      "ABC\n",
      "GHJ\n",
      "YUI\n"
     ]
    }
   ],
   "source": [
    "def my_fun(fname):\n",
    "    print(fname)\n",
    "my_fun(\"ABC\")\n",
    "my_fun(\"GHJ\")\n",
    "my_fun(\"YUI\")\n"
   ]
  },
  {
   "cell_type": "code",
   "execution_count": 19,
   "id": "f26923d1",
   "metadata": {},
   "outputs": [
    {
     "name": "stdout",
     "output_type": "stream",
     "text": [
      "PAreek\n",
      "GOvind\n"
     ]
    }
   ],
   "source": [
    "def my_fun(lname,fname):\n",
    "    print(fname)\n",
    "    print(lname)\n",
    "my_fun(\"GOvind\",\"PAreek\")\n"
   ]
  },
  {
   "cell_type": "code",
   "execution_count": 24,
   "id": "f92b4ff3",
   "metadata": {},
   "outputs": [
    {
     "name": "stdout",
     "output_type": "stream",
     "text": [
      "Enter First No.5\n",
      "Enter Second No.3\n",
      "Addition = 8\n"
     ]
    }
   ],
   "source": [
    "\n",
    "a=int(input(\"Enter First No.\"))\n",
    "b=int(input(\"Enter Second No.\"))\n",
    "fun_sum(a,b)\n",
    "\n",
    "def fun_sum(x,y):\n",
    "    print(\"Addition =\" ,x+y)\n"
   ]
  },
  {
   "cell_type": "code",
   "execution_count": 26,
   "id": "bfde39aa",
   "metadata": {},
   "outputs": [
    {
     "name": "stdout",
     "output_type": "stream",
     "text": [
      "Enter First No.44\n",
      "Enter Second No.43\n",
      "87\n",
      "174\n"
     ]
    }
   ],
   "source": [
    "def fun_sum(x,y):\n",
    "    d=x+y\n",
    "    return d\n",
    "\n",
    "a=int(input(\"Enter First No.\"))\n",
    "b=int(input(\"Enter Second No.\"))\n",
    "z=fun_sum(a,b)\n",
    "print(z)\n",
    "\n",
    "\n",
    "z1=z*2\n",
    "print(z1)\n"
   ]
  },
  {
   "cell_type": "code",
   "execution_count": 27,
   "id": "22f9e032",
   "metadata": {},
   "outputs": [
    {
     "name": "stdout",
     "output_type": "stream",
     "text": [
      "I am from Sweden\n",
      "I am from India\n",
      "I am from Norway\n",
      "I am from Brazil\n"
     ]
    }
   ],
   "source": [
    "def my_funn(country=\"Norway\"):\n",
    "    print(\"I am from \" + country)\n",
    "my_funn(\"Sweden\")\n",
    "my_funn(\"India\")\n",
    "my_funn()\n",
    "my_funn(\"Brazil\")\n"
   ]
  },
  {
   "cell_type": "code",
   "execution_count": 28,
   "id": "1f278129",
   "metadata": {},
   "outputs": [
    {
     "name": "stdout",
     "output_type": "stream",
     "text": [
      "First No.20\n",
      "Second No.2\n",
      "Enter 1 to Add, 2 to Subtract, 3 to Multiply, 4 to divide, 5 to exit1\n",
      "Addition :  22.0\n",
      "Enter 1 to Add, 2 to Subtract, 3 to Multiply, 4 to divide, 5 to exit2\n",
      "Substract :  18.0\n",
      "Enter 1 to Add, 2 to Subtract, 3 to Multiply, 4 to divide, 5 to exit3\n",
      "Multiply :  40.0\n",
      "Enter 1 to Add, 2 to Subtract, 3 to Multiply, 4 to divide, 5 to exit4\n",
      "Division :  10.0\n",
      "Enter 1 to Add, 2 to Subtract, 3 to Multiply, 4 to divide, 5 to exit5\n"
     ]
    }
   ],
   "source": [
    "# Using Fun make a simple calculator\n",
    "def add(x,y):\n",
    "    z=x+y\n",
    "    return z\n",
    "def sub(x,y):\n",
    "    z=x-y\n",
    "    return z\n",
    "def mul(x,y):\n",
    "    z=x*y\n",
    "    return z\n",
    "def div(x,y):\n",
    "    z=x/y\n",
    "    return z\n",
    "\n",
    "\n",
    "a=float(input(\"First No.\"))\n",
    "b=float(input(\"Second No.\"))\n",
    "\n",
    "while(True):\n",
    "    op=int(input(\"Enter 1 to Add, 2 to Subtract, 3 to Multiply, 4 to divide, 5 to exit\"))\n",
    "\n",
    "    if(op==1):\n",
    "        print(\"Addition : \",add(a,b))\n",
    "    elif(op==2):\n",
    "        print(\"Substract : \",sub(a,b))\n",
    "    elif(op==3):\n",
    "        print(\"Multiply : \",mul(a,b))\n",
    "    elif(op==4):\n",
    "        print(\"Division : \",div(a,b))\n",
    "    elif(op==5):\n",
    "        break\n",
    "    else:\n",
    "        print(\"Press 1,2,3,4,5\")\n"
   ]
  },
  {
   "cell_type": "code",
   "execution_count": 3,
   "id": "d99cab18",
   "metadata": {},
   "outputs": [
    {
     "name": "stdout",
     "output_type": "stream",
     "text": [
      "Enter First No.4\n",
      "Enter Second No.8\n",
      "Maximum Number :  8\n"
     ]
    }
   ],
   "source": [
    "# program\n",
    "\n",
    "def maximum(a,b):\n",
    "    \n",
    "    if a<b:\n",
    "        return b\n",
    "    else:\n",
    "        return a\n",
    "    \n",
    "x=int(input(\"Enter First No.\"))\n",
    "y=int(input(\"Enter Second No.\"))\n",
    "\n",
    "z=maximum(x,y)\n",
    "print(\"Maximum Number : \",z)"
   ]
  },
  {
   "cell_type": "code",
   "execution_count": null,
   "id": "0de9b63c",
   "metadata": {},
   "outputs": [],
   "source": []
  },
  {
   "cell_type": "code",
   "execution_count": null,
   "id": "253818b5",
   "metadata": {},
   "outputs": [],
   "source": []
  },
  {
   "cell_type": "code",
   "execution_count": null,
   "id": "4e3c1dcc",
   "metadata": {},
   "outputs": [],
   "source": []
  }
 ],
 "metadata": {
  "kernelspec": {
   "display_name": "Python 3",
   "language": "python",
   "name": "python3"
  },
  "language_info": {
   "codemirror_mode": {
    "name": "ipython",
    "version": 3
   },
   "file_extension": ".py",
   "mimetype": "text/x-python",
   "name": "python",
   "nbconvert_exporter": "python",
   "pygments_lexer": "ipython3",
   "version": "3.8.8"
  }
 },
 "nbformat": 4,
 "nbformat_minor": 5
}
