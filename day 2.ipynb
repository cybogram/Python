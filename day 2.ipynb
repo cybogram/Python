{
 "cells": [
  {
   "cell_type": "markdown",
   "id": "b97eb321",
   "metadata": {},
   "source": [
    "#DAY 2"
   ]
  },
  {
   "cell_type": "code",
   "execution_count": 1,
   "id": "a4c41fa6",
   "metadata": {},
   "outputs": [
    {
     "name": "stdout",
     "output_type": "stream",
     "text": [
      "7\n",
      "3\n",
      "10\n",
      "2.5\n",
      "25\n",
      "2\n"
     ]
    }
   ],
   "source": [
    "\n",
    "a=5\n",
    "b=2\n",
    "\n",
    "print(a+b)\n",
    "print(a-b)\n",
    "print(a*b)\n",
    "print(a/b)\n",
    "print(a**b)\n",
    "print(a//b)\n"
   ]
  },
  {
   "cell_type": "code",
   "execution_count": 2,
   "id": "dd0dbdee",
   "metadata": {},
   "outputs": [
    {
     "name": "stdout",
     "output_type": "stream",
     "text": [
      "False\n",
      "True\n",
      "False\n",
      "True\n",
      "False\n"
     ]
    }
   ],
   "source": [
    "## Comparison Operator\n",
    "\n",
    "a=78\n",
    "b=60\n",
    "\n",
    "print(a==b)\n",
    "print(a>b)\n",
    "print(a<b)\n",
    "print(a>=b)\n",
    "print(a<=b)\n"
   ]
  },
  {
   "cell_type": "code",
   "execution_count": 3,
   "id": "83635b25",
   "metadata": {},
   "outputs": [
    {
     "name": "stdout",
     "output_type": "stream",
     "text": [
      "True\n"
     ]
    }
   ],
   "source": [
    "print(a!=b)"
   ]
  },
  {
   "cell_type": "code",
   "execution_count": 9,
   "id": "7da9a2aa",
   "metadata": {},
   "outputs": [
    {
     "name": "stdout",
     "output_type": "stream",
     "text": [
      "True\n",
      "True\n",
      "False\n",
      "True\n"
     ]
    }
   ],
   "source": [
    "# Logical operators and or not\n",
    "\n",
    "a=7\n",
    "b=5\n",
    "\n",
    "print(a>5 and b<8)\n",
    "print(a>5 or b>5)\n",
    "print(not a==7)\n",
    "print(not a==5)"
   ]
  },
  {
   "cell_type": "code",
   "execution_count": 12,
   "id": "7dd54791",
   "metadata": {},
   "outputs": [
    {
     "name": "stdout",
     "output_type": "stream",
     "text": [
      "True\n"
     ]
    }
   ],
   "source": [
    "x= 2\n",
    "print(not(x>3) and (x<10))"
   ]
  },
  {
   "cell_type": "code",
   "execution_count": 14,
   "id": "03e71d12",
   "metadata": {},
   "outputs": [
    {
     "name": "stdout",
     "output_type": "stream",
     "text": [
      "Enter Your Namedsf\n",
      "Enter S1 Mark4\n",
      "Enter S2 Mark5\n",
      "Enter S3 Mark7\n",
      "Enter S4 Mark8\n",
      "Enter S5 Mark76\n",
      "Student Name= dsf\n",
      "Avrage of Marks 39.2\n"
     ]
    }
   ],
   "source": [
    "#### Take the name student, Marks of 5 Subjects out of 10 find average.\n",
    "\n",
    "name=input(\"Enter Your Name\")\n",
    "s1=int(input(\"Enter S1 Mark\"))\n",
    "s2=int(input(\"Enter S2 Mark\"))\n",
    "s3=int(input(\"Enter S3 Mark\"))\n",
    "s4=int(input(\"Enter S4 Mark\"))\n",
    "s5=int(input(\"Enter S5 Mark\"))\n",
    "avg=s1+s2+s3+s4+s5/5\n",
    "print(\"Student Name=\",name)\n",
    "print(\"Avrage of Marks\",avg)"
   ]
  },
  {
   "cell_type": "code",
   "execution_count": 19,
   "id": "a4bb9f3b",
   "metadata": {},
   "outputs": [
    {
     "name": "stdout",
     "output_type": "stream",
     "text": [
      "Enter Your Name and Marks of Five Subject out of 10 * use Space for Seprate Name and MarksGovind 1 2 3 4 5\n",
      "Govind 1 2 3 4 5\n"
     ]
    }
   ],
   "source": [
    "#### Using Split Fn\n",
    "name,m1,m2,m3,m4,m5=input(\"Enter Your Name and Marks of Five Subject out of 10 * use Space for Seprate Name and Marks\").split()\n",
    "print(name,m1,m2,m3,m4,m5)\n"
   ]
  },
  {
   "cell_type": "code",
   "execution_count": 23,
   "id": "f5a183f1",
   "metadata": {},
   "outputs": [
    {
     "name": "stdout",
     "output_type": "stream",
     "text": [
      "Enter Your Name and Marks of Five Subject out of 10 * use Space for Seprate Name and MarksGovind,1,2,3,4,5\n",
      "Govind 1 2 3 4 5\n",
      "15.0\n"
     ]
    }
   ],
   "source": [
    "#### Using Split Fn\n",
    "name,m1,m2,m3,m4,m5=input(\"Enter Your Name and Marks of Five Subject out of 10 * use Space for Seprate Name and Marks\").split(',')\n",
    "print(name,m1,m2,m3,m4,m5)\n",
    "avg=(float(m1)+float(m2)+float(m3)+float(m4)+float(m5))\n",
    "print(avg)"
   ]
  },
  {
   "cell_type": "code",
   "execution_count": 39,
   "id": "ec0c3c52",
   "metadata": {},
   "outputs": [
    {
     "name": "stdout",
     "output_type": "stream",
     "text": [
      "a is greater then 5\n"
     ]
    }
   ],
   "source": [
    "## Conditional Operator\n",
    "\n",
    "a=15\n",
    "if(a>8):\n",
    "    print(\"a is greater then 5\")\n",
    "    "
   ]
  },
  {
   "cell_type": "code",
   "execution_count": 35,
   "id": "d6cde117",
   "metadata": {},
   "outputs": [
    {
     "name": "stdout",
     "output_type": "stream",
     "text": [
      "Wrong\n"
     ]
    }
   ],
   "source": [
    "a=6\n",
    "if(a>8):\n",
    "    print(a)\n",
    "else:\n",
    "    print(\"Wrong\")"
   ]
  },
  {
   "cell_type": "code",
   "execution_count": 40,
   "id": "131c6597",
   "metadata": {},
   "outputs": [
    {
     "name": "stdout",
     "output_type": "stream",
     "text": [
      "A is Equal to 6\n"
     ]
    }
   ],
   "source": [
    "\n",
    "a=6\n",
    "if(a>6):\n",
    "    print(\"a is greater then 6\")\n",
    "elif(a==6):\n",
    "    print(\"A is Equal to 6\")\n",
    "else:\n",
    "    print(\"a is less then 6\")"
   ]
  },
  {
   "cell_type": "code",
   "execution_count": 54,
   "id": "1fda44bb",
   "metadata": {},
   "outputs": [
    {
     "name": "stdout",
     "output_type": "stream",
     "text": [
      "Enter A and B values4,2\n",
      "A is Greater value from B\n"
     ]
    }
   ],
   "source": [
    "#program : take 2 int values from user and find the largest\n",
    "\n",
    "\n",
    "a,b=input(\"Enter A and B values\").split(',')\n",
    "     \n",
    "a1=int(a)\n",
    "b1=int(b)\n",
    "\n",
    "if a1 > b1:\n",
    "    print(\"A is Greater value from B\")\n",
    "elif a1==b1:\n",
    "    print(\"Both No. are same\")\n",
    "else:\n",
    "    print(\"B is Greater value from A\")"
   ]
  },
  {
   "cell_type": "code",
   "execution_count": null,
   "id": "5109e3ee",
   "metadata": {},
   "outputs": [],
   "source": []
  },
  {
   "cell_type": "code",
   "execution_count": null,
   "id": "52023833",
   "metadata": {},
   "outputs": [],
   "source": []
  },
  {
   "cell_type": "code",
   "execution_count": null,
   "id": "e685627a",
   "metadata": {},
   "outputs": [],
   "source": []
  },
  {
   "cell_type": "code",
   "execution_count": null,
   "id": "8e3d38ac",
   "metadata": {},
   "outputs": [],
   "source": []
  },
  {
   "cell_type": "code",
   "execution_count": null,
   "id": "c2a3c5cf",
   "metadata": {},
   "outputs": [],
   "source": []
  }
 ],
 "metadata": {
  "kernelspec": {
   "display_name": "Python 3",
   "language": "python",
   "name": "python3"
  },
  "language_info": {
   "codemirror_mode": {
    "name": "ipython",
    "version": 3
   },
   "file_extension": ".py",
   "mimetype": "text/x-python",
   "name": "python",
   "nbconvert_exporter": "python",
   "pygments_lexer": "ipython3",
   "version": "3.8.8"
  }
 },
 "nbformat": 4,
 "nbformat_minor": 5
}
