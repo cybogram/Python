{
 "cells": [
  {
   "cell_type": "markdown",
   "id": "084f6447",
   "metadata": {},
   "source": [
    "#DAY 3"
   ]
  },
  {
   "cell_type": "code",
   "execution_count": 2,
   "id": "2ec1f407",
   "metadata": {},
   "outputs": [
    {
     "name": "stdout",
     "output_type": "stream",
     "text": [
      "1\n",
      "2\n",
      "3\n",
      "4\n",
      "5\n",
      "6\n",
      "7\n",
      "8\n",
      "9\n",
      "10\n"
     ]
    }
   ],
   "source": [
    "# LOOPS\n",
    "\n",
    "#WHILE LOOP\n",
    "\n",
    "a=1\n",
    "while(a<=10):\n",
    "    print(a)\n",
    "    a+=1\n",
    "\n"
   ]
  },
  {
   "cell_type": "code",
   "execution_count": null,
   "id": "35260169",
   "metadata": {},
   "outputs": [],
   "source": []
  },
  {
   "cell_type": "code",
   "execution_count": 5,
   "id": "e00e94d6",
   "metadata": {},
   "outputs": [
    {
     "name": "stdout",
     "output_type": "stream",
     "text": [
      "Enter N's Value5\n",
      "1\n",
      "2\n",
      "3\n",
      "4\n",
      "5\n"
     ]
    }
   ],
   "source": [
    "# program: print n natural nos, take the value of n from user, then print these natural nos\n",
    "\n",
    "\n",
    "\n",
    "a=int(input(\"Enter N's Value\"))\n",
    "x=1\n",
    "while(x<=a):\n",
    "    print(x)\n",
    "    x+=1\n"
   ]
  },
  {
   "cell_type": "code",
   "execution_count": 6,
   "id": "06e400eb",
   "metadata": {},
   "outputs": [
    {
     "name": "stdout",
     "output_type": "stream",
     "text": [
      "Enter N's Value5\n",
      "1\n",
      "2\n",
      "3\n",
      "4\n",
      "5\n",
      "Sum of all Natural No. 15\n"
     ]
    }
   ],
   "source": [
    "# program: print n natural nos, take the value of n from user, then print sum of these natural nos\n",
    "\n",
    "\n",
    "\n",
    "a=int(input(\"Enter N's Value\"))\n",
    "sum=0\n",
    "x=1\n",
    "while(x<=a):\n",
    "    print(x)\n",
    "    sum+=x\n",
    "    x+=1\n",
    "print(\"Sum of all Natural No.\",sum)    "
   ]
  },
  {
   "cell_type": "code",
   "execution_count": 8,
   "id": "a6c2e979",
   "metadata": {},
   "outputs": [
    {
     "name": "stdout",
     "output_type": "stream",
     "text": [
      "5\n",
      "6\n",
      "7\n",
      "8\n",
      "9\n"
     ]
    }
   ],
   "source": [
    "#For Loop\n",
    "\n",
    "for a in range(5,10):\n",
    "    print(a)\n",
    "    a+=1"
   ]
  },
  {
   "cell_type": "code",
   "execution_count": 10,
   "id": "03b7bdf5",
   "metadata": {},
   "outputs": [
    {
     "name": "stdout",
     "output_type": "stream",
     "text": [
      "3\n",
      "6\n",
      "9\n",
      "12\n",
      "15\n",
      "18\n",
      "21\n",
      "24\n",
      "27\n"
     ]
    }
   ],
   "source": [
    "#range(start,stop,step)\n",
    "\n",
    "for a in range(3,30,3):\n",
    "    print(a)\n",
    "    a+=1\n"
   ]
  },
  {
   "cell_type": "code",
   "execution_count": 13,
   "id": "53679bac",
   "metadata": {},
   "outputs": [
    {
     "name": "stdout",
     "output_type": "stream",
     "text": [
      "Enter Lower Limit No1\n",
      "Enter Upper Limit No10\n",
      "1\n",
      "2\n",
      "3\n",
      "4\n",
      "5\n",
      "6\n",
      "7\n",
      "8\n",
      "9\n",
      "10\n"
     ]
    }
   ],
   "source": [
    "#display all nos b/w Lower limit and upper limit take this range from user.\n",
    "\n",
    "a=int(input(\"Enter Lower Limit No\"))\n",
    "b=int(input(\"Enter Upper Limit No\"))\n",
    "\n",
    "for i in range(a,b+1):\n",
    "    print(i)\n"
   ]
  },
  {
   "cell_type": "code",
   "execution_count": 14,
   "id": "6b3a2f68",
   "metadata": {},
   "outputs": [
    {
     "name": "stdout",
     "output_type": "stream",
     "text": [
      "f\n",
      "l\n",
      "o\n",
      "w\n",
      "e\n",
      "r\n"
     ]
    }
   ],
   "source": [
    "a='flower'\n",
    "for i in a:\n",
    "    print(i)"
   ]
  },
  {
   "cell_type": "code",
   "execution_count": 17,
   "id": "d72425f8",
   "metadata": {},
   "outputs": [
    {
     "name": "stdout",
     "output_type": "stream",
     "text": [
      "f\n",
      "l\n"
     ]
    }
   ],
   "source": [
    "#Break \n",
    "\n",
    "a='flower'\n",
    "for i in a:\n",
    "    if(i=='o'):\n",
    "        break\n",
    "    print(i)\n",
    "    "
   ]
  },
  {
   "cell_type": "code",
   "execution_count": 18,
   "id": "99963f80",
   "metadata": {},
   "outputs": [
    {
     "name": "stdout",
     "output_type": "stream",
     "text": [
      "f\n",
      "l\n",
      "w\n",
      "e\n",
      "r\n"
     ]
    }
   ],
   "source": [
    "#Continue\n",
    "a='flower'\n",
    "for i in a:\n",
    "    if(i=='o'):\n",
    "        continue\n",
    "    print(i)"
   ]
  },
  {
   "cell_type": "code",
   "execution_count": 22,
   "id": "45102e53",
   "metadata": {},
   "outputs": [
    {
     "name": "stdout",
     "output_type": "stream",
     "text": [
      "3\n",
      "4\n",
      "5\n",
      "6\n",
      "7\n"
     ]
    }
   ],
   "source": [
    "\n",
    "\n",
    "for i in range(3,15):\n",
    "    if(i==8):\n",
    "        break\n",
    "    print(i)\n",
    "\n",
    "    "
   ]
  },
  {
   "cell_type": "code",
   "execution_count": 27,
   "id": "6f919f76",
   "metadata": {},
   "outputs": [
    {
     "name": "stdout",
     "output_type": "stream",
     "text": [
      "Enter No.4\n",
      "Even\n"
     ]
    }
   ],
   "source": [
    "\n",
    "a=int(input(\"Enter No.\"))\n",
    "\n",
    "if(a%2==0):\n",
    "    print(\"Even\")\n",
    "else:\n",
    "    print(\"Odd\")\n"
   ]
  },
  {
   "cell_type": "code",
   "execution_count": 34,
   "id": "60f43793",
   "metadata": {},
   "outputs": [
    {
     "name": "stdout",
     "output_type": "stream",
     "text": [
      "Enter Lower Limit45\n",
      "Enter upper Limit2\n",
      "Enter Lower Limit4\n",
      "Enter upper Limit10\n",
      "4 Even\n",
      "5 Odd\n",
      "6 Even\n",
      "7 Odd\n",
      "8 Even\n",
      "9 Odd\n",
      "10 Even\n"
     ]
    }
   ],
   "source": [
    "\n",
    "a=int(input(\"Enter Lower Limit\"))\n",
    "b=int(input(\"Enter upper Limit\"))\n",
    "\n",
    "if(a>b):\n",
    "    a=int(input(\"Enter Lower Limit\"))\n",
    "    b=int(input(\"Enter upper Limit\"))\n",
    "\n",
    "    \n",
    "\n",
    "for i in range(a,b+1):\n",
    "\n",
    "    if(i%2==0):\n",
    "        print(i,\"Even\")\n",
    "    else:\n",
    "        print(i,\"Odd\")\n",
    "\n"
   ]
  },
  {
   "cell_type": "code",
   "execution_count": null,
   "id": "9d974738",
   "metadata": {},
   "outputs": [],
   "source": []
  },
  {
   "cell_type": "code",
   "execution_count": null,
   "id": "630b86ce",
   "metadata": {},
   "outputs": [],
   "source": []
  },
  {
   "cell_type": "code",
   "execution_count": null,
   "id": "54625d1a",
   "metadata": {},
   "outputs": [],
   "source": []
  }
 ],
 "metadata": {
  "kernelspec": {
   "display_name": "Python 3",
   "language": "python",
   "name": "python3"
  },
  "language_info": {
   "codemirror_mode": {
    "name": "ipython",
    "version": 3
   },
   "file_extension": ".py",
   "mimetype": "text/x-python",
   "name": "python",
   "nbconvert_exporter": "python",
   "pygments_lexer": "ipython3",
   "version": "3.8.8"
  }
 },
 "nbformat": 4,
 "nbformat_minor": 5
}
