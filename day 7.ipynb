{
 "cells": [
  {
   "cell_type": "markdown",
   "id": "c79a908a",
   "metadata": {},
   "source": [
    "#DAY 7"
   ]
  },
  {
   "cell_type": "markdown",
   "id": "54b41056",
   "metadata": {},
   "source": [
    "# NUMPY"
   ]
  },
  {
   "cell_type": "code",
   "execution_count": null,
   "id": "d93d63ef",
   "metadata": {},
   "outputs": [],
   "source": []
  },
  {
   "cell_type": "code",
   "execution_count": 7,
   "id": "bdd63e9e",
   "metadata": {},
   "outputs": [],
   "source": [
    "import numpy as np"
   ]
  },
  {
   "cell_type": "code",
   "execution_count": 14,
   "id": "cdd4624e",
   "metadata": {},
   "outputs": [
    {
     "name": "stdout",
     "output_type": "stream",
     "text": [
      "[3, 4, 5, 6]\n",
      "<class 'list'>\n"
     ]
    },
    {
     "ename": "AttributeError",
     "evalue": "'list' object has no attribute 'dtype'",
     "output_type": "error",
     "traceback": [
      "\u001b[1;31m---------------------------------------------------------------------------\u001b[0m",
      "\u001b[1;31mAttributeError\u001b[0m                            Traceback (most recent call last)",
      "\u001b[1;32m<ipython-input-14-26388a741acb>\u001b[0m in \u001b[0;36m<module>\u001b[1;34m\u001b[0m\n\u001b[0;32m      2\u001b[0m \u001b[0mprint\u001b[0m\u001b[1;33m(\u001b[0m\u001b[0ma\u001b[0m\u001b[1;33m)\u001b[0m\u001b[1;33m\u001b[0m\u001b[1;33m\u001b[0m\u001b[0m\n\u001b[0;32m      3\u001b[0m \u001b[0mprint\u001b[0m\u001b[1;33m(\u001b[0m\u001b[0mtype\u001b[0m\u001b[1;33m(\u001b[0m\u001b[0ma\u001b[0m\u001b[1;33m)\u001b[0m\u001b[1;33m)\u001b[0m\u001b[1;33m\u001b[0m\u001b[1;33m\u001b[0m\u001b[0m\n\u001b[1;32m----> 4\u001b[1;33m \u001b[0mprint\u001b[0m\u001b[1;33m(\u001b[0m\u001b[0ma\u001b[0m\u001b[1;33m.\u001b[0m\u001b[0mdtype\u001b[0m\u001b[1;33m)\u001b[0m\u001b[1;33m\u001b[0m\u001b[1;33m\u001b[0m\u001b[0m\n\u001b[0m",
      "\u001b[1;31mAttributeError\u001b[0m: 'list' object has no attribute 'dtype'"
     ]
    }
   ],
   "source": [
    "a=[3,4,5,6]\n",
    "print(a)\n",
    "print(type(a))\n"
   ]
  },
  {
   "cell_type": "code",
   "execution_count": 15,
   "id": "9cf554e3",
   "metadata": {},
   "outputs": [
    {
     "name": "stdout",
     "output_type": "stream",
     "text": [
      "[3 4 5 6]\n",
      "<class 'numpy.ndarray'>\n",
      "int32\n"
     ]
    }
   ],
   "source": [
    "b=np.array(a)\n",
    "print(b)\n",
    "print(type(b))\n",
    "print(b.dtype)"
   ]
  },
  {
   "cell_type": "code",
   "execution_count": 16,
   "id": "a0cd0a64",
   "metadata": {},
   "outputs": [
    {
     "name": "stdout",
     "output_type": "stream",
     "text": [
      "[4.  5.  6.  8.6 9. ]\n",
      "<class 'numpy.ndarray'>\n",
      "float64\n"
     ]
    }
   ],
   "source": [
    "c=np.array([4,5,6,8.6,9])\n",
    "print(c)\n",
    "print(type(c))\n",
    "print(c.dtype)"
   ]
  },
  {
   "cell_type": "code",
   "execution_count": 196,
   "id": "17b3d618",
   "metadata": {},
   "outputs": [
    {
     "name": "stdout",
     "output_type": "stream",
     "text": [
      "['4' '5' '6' '8.6' '13' '9' 'a' 'b']\n",
      "<class 'numpy.ndarray'>\n",
      "<U32\n"
     ]
    }
   ],
   "source": [
    "d=np.array([4,5,6,8.6,6+7,9,'a','b'])\n",
    "print(d)\n",
    "print(type(d))\n",
    "print(d.dtype)"
   ]
  },
  {
   "cell_type": "code",
   "execution_count": 21,
   "id": "7d064e61",
   "metadata": {},
   "outputs": [
    {
     "name": "stdout",
     "output_type": "stream",
     "text": [
      "Array\n",
      " :  [ 5.    6.    8.   10.22]\n",
      "Array Type\n",
      " :  <class 'numpy.ndarray'>\n",
      "Data type\n",
      " :  float64\n",
      "n Dimention\n",
      " :  1\n",
      "Item size\n",
      " :  8\n",
      "Shape\n",
      " :  (4,)\n",
      "Nbytes\n",
      " :  32\n"
     ]
    }
   ],
   "source": [
    "numpy_array= np.array([5,6,8,10.22])\n",
    "print(\"Array\\n : \",numpy_array)\n",
    "print(\"Array Type\\n : \",type(numpy_array) )\n",
    "print(\"Data type\\n : \",numpy_array.dtype)\n",
    "print(\"n Dimention\\n : \",numpy_array.ndim)\n",
    "print(\"Item size\\n : \",numpy_array.itemsize)\n",
    "#Shape of numpy array in (rows,columns)the shape of an array is a tuple of integers giving \n",
    "#the size of the array along each dimension.\n",
    "\n",
    "print(\"Shape\\n : \",numpy_array.shape)#in Rows,Columns\n",
    "print(\"Nbytes\\n : \",numpy_array.nbytes)\n",
    "\n"
   ]
  },
  {
   "cell_type": "code",
   "execution_count": 202,
   "id": "401705bf",
   "metadata": {},
   "outputs": [
    {
     "name": "stdout",
     "output_type": "stream",
     "text": [
      "[[3 4 5]\n",
      " [6 7 8]\n",
      " [2 6 9]]\n",
      "Array\n",
      " :  [[3 4 5]\n",
      " [6 7 8]\n",
      " [2 6 9]]\n",
      "Array Type\n",
      " :  <class 'numpy.ndarray'>\n",
      "Data type\n",
      " :  int32\n",
      "n Dimention\n",
      " :  2\n",
      "Item size\n",
      " :  4\n",
      "Shape\n",
      " :  (3, 3)\n",
      "Nbytes\n",
      " :  36\n"
     ]
    }
   ],
   "source": [
    "# 2-D array\n",
    "\n",
    "#d1=np.array([21,2,4,5,6,7])\n",
    "#d2=np.array([[1,2,3],[4,5,6]])\n",
    "#print(d1)\n",
    "#print(d2)\n",
    "\n",
    "a=np.array([[3,4,5],[6,7,8],[2,6,9]])\n",
    "\n",
    "print(a)\n",
    "\n",
    "print(\"Array\\n : \",a)\n",
    "print(\"Array Type\\n : \",type(a) )\n",
    "print(\"Data type\\n : \",a.dtype)\n",
    "print(\"n Dimention\\n : \",a.ndim)\n",
    "print(\"Item size\\n : \",a.itemsize)\n",
    "#Shape of numpy array in (rows,columns)the shape of an array is a tuple of integers giving \n",
    "#the size of the array along each dimension.\n",
    "\n",
    "print(\"Shape\\n : \",a.shape)#in Rows,Columns\n",
    "print(\"Nbytes\\n : \",a.nbytes)\n"
   ]
  },
  {
   "cell_type": "code",
   "execution_count": 28,
   "id": "8683c1e4",
   "metadata": {},
   "outputs": [
    {
     "name": "stdout",
     "output_type": "stream",
     "text": [
      "[[3. 4. 5.]\n",
      " [6. 7. 8.]]\n",
      "float64\n"
     ]
    }
   ],
   "source": [
    "#Type Conversion Int to Float\n",
    "b=np.array([[3,4,5],[6,7,8]],dtype=float)\n",
    "print(b)\n",
    "print(b.dtype)"
   ]
  },
  {
   "cell_type": "code",
   "execution_count": 29,
   "id": "9321dd33",
   "metadata": {},
   "outputs": [
    {
     "name": "stdout",
     "output_type": "stream",
     "text": [
      "[[3 4 5]\n",
      " [6 7 8]]\n",
      "int32\n"
     ]
    }
   ],
   "source": [
    "#Type Conversion FLOAT TO int\n",
    "b=np.array([[3.3,4.4,5.5],[6.4,7.5,8.6]],dtype=int)\n",
    "print(b)\n",
    "print(b.dtype)"
   ]
  },
  {
   "cell_type": "code",
   "execution_count": 31,
   "id": "dcf3f49e",
   "metadata": {},
   "outputs": [
    {
     "data": {
      "text/plain": [
       "array([[0., 0., 0., 0., 0., 0., 0.],\n",
       "       [0., 0., 0., 0., 0., 0., 0.],\n",
       "       [0., 0., 0., 0., 0., 0., 0.],\n",
       "       [0., 0., 0., 0., 0., 0., 0.]])"
      ]
     },
     "execution_count": 31,
     "metadata": {},
     "output_type": "execute_result"
    }
   ],
   "source": [
    "# a Matrix having all zero\n",
    "\n",
    "z=np.zeros((4,7))\n",
    "z\n"
   ]
  },
  {
   "cell_type": "code",
   "execution_count": 33,
   "id": "4ff420c3",
   "metadata": {},
   "outputs": [
    {
     "data": {
      "text/plain": [
       "array([[1, 1, 1, 1, 1, 1, 1],\n",
       "       [1, 1, 1, 1, 1, 1, 1],\n",
       "       [1, 1, 1, 1, 1, 1, 1],\n",
       "       [1, 1, 1, 1, 1, 1, 1]])"
      ]
     },
     "execution_count": 33,
     "metadata": {},
     "output_type": "execute_result"
    }
   ],
   "source": [
    "# a Matrix having all One\n",
    "\n",
    "z=np.ones((4,7),dtype=int)\n",
    "z\n"
   ]
  },
  {
   "cell_type": "code",
   "execution_count": 35,
   "id": "ca66012d",
   "metadata": {},
   "outputs": [
    {
     "data": {
      "text/plain": [
       "array([[1., 0., 0., 0.],\n",
       "       [0., 1., 0., 0.],\n",
       "       [0., 0., 1., 0.],\n",
       "       [0., 0., 0., 1.]])"
      ]
     },
     "execution_count": 35,
     "metadata": {},
     "output_type": "execute_result"
    }
   ],
   "source": [
    "# For creating identity Matrix\n",
    "\n",
    "e=np.eye((4))\n",
    "e\n"
   ]
  },
  {
   "cell_type": "code",
   "execution_count": 207,
   "id": "e666e16b",
   "metadata": {},
   "outputs": [
    {
     "data": {
      "text/plain": [
       "array([[190, 190, 190, 190, 190, 190, 190, 190],\n",
       "       [190, 190, 190, 190, 190, 190, 190, 190],\n",
       "       [190, 190, 190, 190, 190, 190, 190, 190],\n",
       "       [190, 190, 190, 190, 190, 190, 190, 190]])"
      ]
     },
     "execution_count": 207,
     "metadata": {},
     "output_type": "execute_result"
    }
   ],
   "source": [
    "full_array = np.full((4,8),190)\n",
    "full_array"
   ]
  },
  {
   "cell_type": "code",
   "execution_count": 37,
   "id": "30d404e2",
   "metadata": {},
   "outputs": [
    {
     "data": {
      "text/plain": [
       "array([['G', 'G', 'G', 'G', 'G', 'G', 'G', 'G'],\n",
       "       ['G', 'G', 'G', 'G', 'G', 'G', 'G', 'G'],\n",
       "       ['G', 'G', 'G', 'G', 'G', 'G', 'G', 'G'],\n",
       "       ['G', 'G', 'G', 'G', 'G', 'G', 'G', 'G']], dtype='<U1')"
      ]
     },
     "execution_count": 37,
     "metadata": {},
     "output_type": "execute_result"
    }
   ],
   "source": [
    "full_array = np.full((4,8),\"G\")\n",
    "full_array"
   ]
  },
  {
   "cell_type": "code",
   "execution_count": 40,
   "id": "44e7ffbd",
   "metadata": {},
   "outputs": [
    {
     "name": "stdout",
     "output_type": "stream",
     "text": [
      "Array with Range 7: \n",
      " [0 1 2 3 4 5 6]\n",
      "<class 'numpy.ndarray'>\n",
      "int32\n",
      "1\n",
      "(7,)\n"
     ]
    }
   ],
   "source": [
    "# Array with arange() function\n",
    "a=np.arange(7)\n",
    "print(\"Array with Range 7: \\n\",a)\n",
    "print(type(a))\n",
    "print(a.dtype)\n",
    "print(a.ndim)\n",
    "print(a.shape)\n",
    "\n",
    "\n",
    "\n"
   ]
  },
  {
   "cell_type": "code",
   "execution_count": 44,
   "id": "5f0f1d11",
   "metadata": {},
   "outputs": [
    {
     "name": "stdout",
     "output_type": "stream",
     "text": [
      "Array with Range : \n",
      " [2 3 4 5 6]\n"
     ]
    }
   ],
   "source": [
    "a=np.arange(2,7)\n",
    "print(\"Array with Range : \\n\",a)"
   ]
  },
  {
   "cell_type": "code",
   "execution_count": 45,
   "id": "010f7ee6",
   "metadata": {},
   "outputs": [
    {
     "name": "stdout",
     "output_type": "stream",
     "text": [
      "Array with Range 7: \n",
      " [ 2  5  8 11]\n"
     ]
    }
   ],
   "source": [
    "a=np.arange(2,12,3)\n",
    "print(\"Array with Range 7: \\n\",a)"
   ]
  },
  {
   "cell_type": "code",
   "execution_count": 49,
   "id": "b85b259d",
   "metadata": {},
   "outputs": [
    {
     "name": "stdout",
     "output_type": "stream",
     "text": [
      "Array with Range : \n",
      " [ 3  6  9 12 15 18 21 24 27]\n"
     ]
    }
   ],
   "source": [
    "a=np.arange(3,28,3)\n",
    "print(\"Array with Range : \\n\",a)"
   ]
  },
  {
   "cell_type": "code",
   "execution_count": 64,
   "id": "ff73f13f",
   "metadata": {},
   "outputs": [
    {
     "data": {
      "text/plain": [
       "array([[0.89572636, 0.39080198],\n",
       "       [0.30989927, 0.93010227],\n",
       "       [0.94925128, 0.14068395],\n",
       "       [0.18164213, 0.002937  ]])"
      ]
     },
     "execution_count": 64,
     "metadata": {},
     "output_type": "execute_result"
    }
   ],
   "source": [
    "# Generate Random nos.\n",
    "\n",
    "randum=np.random.random((4,2))\n",
    "randum\n"
   ]
  },
  {
   "cell_type": "code",
   "execution_count": 213,
   "id": "ca1580ae",
   "metadata": {},
   "outputs": [
    {
     "data": {
      "text/plain": [
       "array([[3, 6, 1, 2],\n",
       "       [1, 2, 2, 1],\n",
       "       [6, 2, 1, 3]])"
      ]
     },
     "execution_count": 213,
     "metadata": {},
     "output_type": "execute_result"
    }
   ],
   "source": [
    "# to generate integer random nos.\n",
    "\n",
    "a=np.random.randint(1, 7, (3, 4))\n",
    "a"
   ]
  },
  {
   "cell_type": "code",
   "execution_count": 65,
   "id": "22442a11",
   "metadata": {},
   "outputs": [
    {
     "name": "stdout",
     "output_type": "stream",
     "text": [
      "[ 2  3  4  5  6  7  8  9 10 11 12]\n"
     ]
    }
   ],
   "source": [
    "# array Indexing\n",
    "a=np.arange(2,13)\n",
    "print(a)\n"
   ]
  },
  {
   "cell_type": "code",
   "execution_count": 66,
   "id": "ca78862d",
   "metadata": {},
   "outputs": [
    {
     "data": {
      "text/plain": [
       "6"
      ]
     },
     "execution_count": 66,
     "metadata": {},
     "output_type": "execute_result"
    }
   ],
   "source": [
    "a[4]"
   ]
  },
  {
   "cell_type": "code",
   "execution_count": 67,
   "id": "a2035843",
   "metadata": {},
   "outputs": [
    {
     "data": {
      "text/plain": [
       "11"
      ]
     },
     "execution_count": 67,
     "metadata": {},
     "output_type": "execute_result"
    }
   ],
   "source": [
    "a[-2]"
   ]
  },
  {
   "cell_type": "markdown",
   "id": "8d5912c9",
   "metadata": {},
   "source": [
    "### Array Slicing\n",
    "\n",
    "a[:]\n",
    "a[start:]\n",
    "a[:stop]\n",
    "a[start:stop]\n",
    "a[start:stop:step]\n"
   ]
  },
  {
   "cell_type": "code",
   "execution_count": 73,
   "id": "64dc8c36",
   "metadata": {},
   "outputs": [
    {
     "data": {
      "text/plain": [
       "array([ 2,  3,  4,  5,  6,  7,  8,  9, 10, 11, 12])"
      ]
     },
     "execution_count": 73,
     "metadata": {},
     "output_type": "execute_result"
    }
   ],
   "source": [
    "a[:]"
   ]
  },
  {
   "cell_type": "code",
   "execution_count": 74,
   "id": "8b92d0f3",
   "metadata": {},
   "outputs": [
    {
     "data": {
      "text/plain": [
       "array([ 5,  6,  7,  8,  9, 10, 11, 12])"
      ]
     },
     "execution_count": 74,
     "metadata": {},
     "output_type": "execute_result"
    }
   ],
   "source": [
    "a[3:]"
   ]
  },
  {
   "cell_type": "code",
   "execution_count": 75,
   "id": "545df4f3",
   "metadata": {},
   "outputs": [
    {
     "data": {
      "text/plain": [
       "array([2, 3, 4, 5, 6, 7, 8])"
      ]
     },
     "execution_count": 75,
     "metadata": {},
     "output_type": "execute_result"
    }
   ],
   "source": [
    "a[:7]"
   ]
  },
  {
   "cell_type": "code",
   "execution_count": 76,
   "id": "586f75fa",
   "metadata": {},
   "outputs": [
    {
     "data": {
      "text/plain": [
       "array([ 4,  5,  6,  7,  8,  9, 10])"
      ]
     },
     "execution_count": 76,
     "metadata": {},
     "output_type": "execute_result"
    }
   ],
   "source": [
    "a[2:9]"
   ]
  },
  {
   "cell_type": "code",
   "execution_count": 77,
   "id": "95f2ff76",
   "metadata": {},
   "outputs": [
    {
     "data": {
      "text/plain": [
       "array([ 4,  6,  8, 10])"
      ]
     },
     "execution_count": 77,
     "metadata": {},
     "output_type": "execute_result"
    }
   ],
   "source": [
    "a[2:10:2]"
   ]
  },
  {
   "cell_type": "code",
   "execution_count": 81,
   "id": "2717e64d",
   "metadata": {},
   "outputs": [
    {
     "data": {
      "text/plain": [
       "array([12, 10,  8,  6,  4,  2])"
      ]
     },
     "execution_count": 81,
     "metadata": {},
     "output_type": "execute_result"
    }
   ],
   "source": [
    "a[::-2]"
   ]
  },
  {
   "cell_type": "code",
   "execution_count": 82,
   "id": "9ab1f455",
   "metadata": {},
   "outputs": [
    {
     "data": {
      "text/plain": [
       "array([12, 10,  8,  6])"
      ]
     },
     "execution_count": 82,
     "metadata": {},
     "output_type": "execute_result"
    }
   ],
   "source": [
    "a[10:2:-2]"
   ]
  },
  {
   "cell_type": "code",
   "execution_count": 84,
   "id": "a17f0e9e",
   "metadata": {},
   "outputs": [
    {
     "name": "stdout",
     "output_type": "stream",
     "text": [
      "[[1 2 3 4 5]\n",
      " [3 4 6 7 8]\n",
      " [4 7 9 2 3]\n",
      " [4 3 7 8 2]\n",
      " [7 3 4 5 2]]\n"
     ]
    }
   ],
   "source": [
    "arr3=np.array([[1,2,3,4,5],[3,4,6,7,8],[4,7,9,2,3],[4,3,7,8,2],[7,3,4,5,2]])\n",
    "print(arr3)"
   ]
  },
  {
   "cell_type": "code",
   "execution_count": 87,
   "id": "8e265b34",
   "metadata": {},
   "outputs": [
    {
     "data": {
      "text/plain": [
       "3"
      ]
     },
     "execution_count": 87,
     "metadata": {},
     "output_type": "execute_result"
    }
   ],
   "source": [
    "arr3[2][4]"
   ]
  },
  {
   "cell_type": "code",
   "execution_count": 86,
   "id": "f5e52caa",
   "metadata": {},
   "outputs": [
    {
     "data": {
      "text/plain": [
       "7"
      ]
     },
     "execution_count": 86,
     "metadata": {},
     "output_type": "execute_result"
    }
   ],
   "source": [
    "arr3[3][2]"
   ]
  },
  {
   "cell_type": "code",
   "execution_count": 89,
   "id": "92306110",
   "metadata": {},
   "outputs": [
    {
     "data": {
      "text/plain": [
       "3"
      ]
     },
     "execution_count": 89,
     "metadata": {},
     "output_type": "execute_result"
    }
   ],
   "source": [
    "arr3[1][0]"
   ]
  },
  {
   "cell_type": "code",
   "execution_count": 90,
   "id": "519ab8d2",
   "metadata": {},
   "outputs": [
    {
     "data": {
      "text/plain": [
       "5"
      ]
     },
     "execution_count": 90,
     "metadata": {},
     "output_type": "execute_result"
    }
   ],
   "source": [
    "arr3[-1][3]"
   ]
  },
  {
   "cell_type": "code",
   "execution_count": 91,
   "id": "ccf6d552",
   "metadata": {},
   "outputs": [
    {
     "data": {
      "text/plain": [
       "7"
      ]
     },
     "execution_count": 91,
     "metadata": {},
     "output_type": "execute_result"
    }
   ],
   "source": [
    "arr3[-2][-3]"
   ]
  },
  {
   "cell_type": "code",
   "execution_count": 92,
   "id": "e44cb410",
   "metadata": {},
   "outputs": [],
   "source": [
    "import numpy as np\n"
   ]
  },
  {
   "cell_type": "code",
   "execution_count": 93,
   "id": "4664a832",
   "metadata": {},
   "outputs": [
    {
     "name": "stdout",
     "output_type": "stream",
     "text": [
      "[[1 2 3 4 5]\n",
      " [3 4 6 7 8]\n",
      " [4 7 9 2 3]\n",
      " [4 3 7 8 2]\n",
      " [7 3 4 5 2]]\n"
     ]
    }
   ],
   "source": [
    "arr3=np.array([[1,2,3,4,5],[3,4,6,7,8],[4,7,9,2,3],[4,3,7,8,2],[7,3,4,5,2]])\n",
    "print(arr3)"
   ]
  },
  {
   "cell_type": "markdown",
   "id": "d417e332",
   "metadata": {},
   "source": [
    "# Slicing\n",
    "\n",
    "#arr3[start row : stop row, start col: stop col]\n",
    "\n"
   ]
  },
  {
   "cell_type": "code",
   "execution_count": 225,
   "id": "eb583542",
   "metadata": {},
   "outputs": [
    {
     "data": {
      "text/plain": [
       "array([[2, 3],\n",
       "       [8, 2],\n",
       "       [5, 2]])"
      ]
     },
     "execution_count": 225,
     "metadata": {},
     "output_type": "execute_result"
    }
   ],
   "source": [
    "arr3[2: ,3:]"
   ]
  },
  {
   "cell_type": "code",
   "execution_count": 104,
   "id": "9d6effd3",
   "metadata": {},
   "outputs": [
    {
     "data": {
      "text/plain": [
       "array([[1, 2, 3, 4],\n",
       "       [3, 4, 6, 7],\n",
       "       [4, 7, 9, 2]])"
      ]
     },
     "execution_count": 104,
     "metadata": {},
     "output_type": "execute_result"
    }
   ],
   "source": [
    "arr3[:3,:4]"
   ]
  },
  {
   "cell_type": "code",
   "execution_count": 105,
   "id": "c9cdec18",
   "metadata": {},
   "outputs": [
    {
     "data": {
      "text/plain": [
       "array([[1, 2, 3, 4, 5],\n",
       "       [3, 4, 6, 7, 8],\n",
       "       [4, 7, 9, 2, 3],\n",
       "       [4, 3, 7, 8, 2],\n",
       "       [7, 3, 4, 5, 2]])"
      ]
     },
     "execution_count": 105,
     "metadata": {},
     "output_type": "execute_result"
    }
   ],
   "source": [
    "arr3[ : , : ]"
   ]
  },
  {
   "cell_type": "code",
   "execution_count": 106,
   "id": "2fd0af97",
   "metadata": {},
   "outputs": [
    {
     "data": {
      "text/plain": [
       "array([[7, 9],\n",
       "       [3, 7]])"
      ]
     },
     "execution_count": 106,
     "metadata": {},
     "output_type": "execute_result"
    }
   ],
   "source": [
    "arr3[2:4,1:3]"
   ]
  },
  {
   "cell_type": "code",
   "execution_count": 107,
   "id": "1bd0bc3b",
   "metadata": {},
   "outputs": [
    {
     "data": {
      "text/plain": [
       "array([[1, 2, 3, 4, 5],\n",
       "       [3, 4, 6, 7, 8],\n",
       "       [4, 7, 9, 2, 3],\n",
       "       [4, 3, 7, 8, 2],\n",
       "       [7, 3, 4, 5, 2]])"
      ]
     },
     "execution_count": 107,
     "metadata": {},
     "output_type": "execute_result"
    }
   ],
   "source": [
    "arr3"
   ]
  },
  {
   "cell_type": "code",
   "execution_count": 112,
   "id": "9b7a956c",
   "metadata": {},
   "outputs": [
    {
     "data": {
      "text/plain": [
       "array([[6, 7, 8],\n",
       "       [9, 2, 3],\n",
       "       [7, 8, 2],\n",
       "       [4, 5, 2]])"
      ]
     },
     "execution_count": 112,
     "metadata": {},
     "output_type": "execute_result"
    }
   ],
   "source": [
    "arr3[1:,2:]"
   ]
  },
  {
   "cell_type": "code",
   "execution_count": 118,
   "id": "84ce5940",
   "metadata": {},
   "outputs": [
    {
     "name": "stdout",
     "output_type": "stream",
     "text": [
      "array Originally [ 1  2  3  4  5  6  7  8  9 10 11 12]\n",
      "1\n",
      "\n",
      "\n"
     ]
    }
   ],
   "source": [
    "#Reshaping of array\n",
    "\n",
    "array=np.arange(1,13)\n",
    "print(\"array Originally\", array)\n",
    "print(array.ndim)\n",
    "print(\"\\n\")"
   ]
  },
  {
   "cell_type": "code",
   "execution_count": 229,
   "id": "f8e45cfe",
   "metadata": {},
   "outputs": [
    {
     "name": "stdout",
     "output_type": "stream",
     "text": [
      "Reshaped : \n",
      " [[ 1  2  3]\n",
      " [ 4  5  6]\n",
      " [ 7  8  9]\n",
      " [10 11 12]]\n",
      "2\n"
     ]
    }
   ],
   "source": [
    "#resh_array=array.reshape(4,3)\n",
    "#resh_array=array.reshape(3,4)\n",
    "resh_array=array.reshape(4,3)\n",
    "print (\"Reshaped : \\n\",resh_array)\n",
    "print(resh_array.ndim)\n"
   ]
  },
  {
   "cell_type": "code",
   "execution_count": 123,
   "id": "f032c296",
   "metadata": {},
   "outputs": [
    {
     "name": "stdout",
     "output_type": "stream",
     "text": [
      "\n",
      " [[1 2 3]\n",
      " [4 5 6]]\n",
      "(2, 3)\n"
     ]
    }
   ],
   "source": [
    "#Resizing\n",
    "\n",
    "a=np.array([[1,2,3],[4,5,6]])\n",
    "print('\\n',a)\n",
    "print(a.shape)\n"
   ]
  },
  {
   "cell_type": "code",
   "execution_count": 124,
   "id": "f2ecbbc8",
   "metadata": {},
   "outputs": [
    {
     "name": "stdout",
     "output_type": "stream",
     "text": [
      "\n",
      " [[1 2 3]\n",
      " [4 5 6]\n",
      " [1 2 3]]\n",
      "(3, 3)\n"
     ]
    }
   ],
   "source": [
    "b=np.resize(a,(3,3))\n",
    "print('\\n',b)\n",
    "print(b.shape)"
   ]
  },
  {
   "cell_type": "code",
   "execution_count": 126,
   "id": "0f930c82",
   "metadata": {},
   "outputs": [
    {
     "name": "stdout",
     "output_type": "stream",
     "text": [
      "\n",
      " [[1 2 3 4]\n",
      " [5 6 1 2]\n",
      " [3 4 5 6]]\n",
      "(3, 4)\n"
     ]
    }
   ],
   "source": [
    "c=np.resize(a,(3,4))\n",
    "print('\\n',c)\n",
    "print(c.shape)"
   ]
  },
  {
   "cell_type": "code",
   "execution_count": 127,
   "id": "cb779e0e",
   "metadata": {},
   "outputs": [
    {
     "name": "stdout",
     "output_type": "stream",
     "text": [
      "\n",
      " [[1 2 3 4 5 6]]\n",
      "(1, 6)\n"
     ]
    }
   ],
   "source": [
    "d=np.resize(a,(1,6))\n",
    "print('\\n',d)\n",
    "print(d.shape)"
   ]
  },
  {
   "cell_type": "code",
   "execution_count": null,
   "id": "7537533b",
   "metadata": {},
   "outputs": [],
   "source": [
    "# Arthmetic operation in Array\n",
    "\n",
    "a=np\n"
   ]
  },
  {
   "cell_type": "code",
   "execution_count": 128,
   "id": "cf53da00",
   "metadata": {},
   "outputs": [
    {
     "name": "stdout",
     "output_type": "stream",
     "text": [
      "[[0 1 2]\n",
      " [3 4 5]\n",
      " [6 7 8]]\n",
      "2\n"
     ]
    }
   ],
   "source": [
    "a = np.arange(9).reshape(3,3)\n",
    "print(a)\n",
    "print(a.ndim)\n"
   ]
  },
  {
   "cell_type": "code",
   "execution_count": 131,
   "id": "44cf5d2b",
   "metadata": {},
   "outputs": [
    {
     "name": "stdout",
     "output_type": "stream",
     "text": [
      "[10 11 12]\n",
      "1\n"
     ]
    }
   ],
   "source": [
    "b= np.array([10,11,12])\n",
    "print(b)\n",
    "print(b.ndim)"
   ]
  },
  {
   "cell_type": "code",
   "execution_count": 133,
   "id": "26e96c89",
   "metadata": {},
   "outputs": [
    {
     "name": "stdout",
     "output_type": "stream",
     "text": [
      "[[3 4 5]\n",
      " [6 7 8]\n",
      " [1 2 3]]\n",
      "2\n"
     ]
    }
   ],
   "source": [
    "c= np.array([[3,4,5],[6,7,8],[1,2,3]])\n",
    "print(c)\n",
    "print(c.ndim)"
   ]
  },
  {
   "cell_type": "code",
   "execution_count": 135,
   "id": "443da892",
   "metadata": {},
   "outputs": [
    {
     "data": {
      "text/plain": [
       "array([[ 3,  5,  7],\n",
       "       [ 9, 11, 13],\n",
       "       [ 7,  9, 11]])"
      ]
     },
     "execution_count": 135,
     "metadata": {},
     "output_type": "execute_result"
    }
   ],
   "source": [
    "np.add(a,c)\n"
   ]
  },
  {
   "cell_type": "code",
   "execution_count": 136,
   "id": "4fb4d66f",
   "metadata": {},
   "outputs": [
    {
     "data": {
      "text/plain": [
       "array([[-3, -3, -3],\n",
       "       [-3, -3, -3],\n",
       "       [ 5,  5,  5]])"
      ]
     },
     "execution_count": 136,
     "metadata": {},
     "output_type": "execute_result"
    }
   ],
   "source": [
    "np.subtract(a,c)"
   ]
  },
  {
   "cell_type": "code",
   "execution_count": 137,
   "id": "d0ebf477",
   "metadata": {},
   "outputs": [
    {
     "data": {
      "text/plain": [
       "array([[ 0,  4, 10],\n",
       "       [18, 28, 40],\n",
       "       [ 6, 14, 24]])"
      ]
     },
     "execution_count": 137,
     "metadata": {},
     "output_type": "execute_result"
    }
   ],
   "source": [
    "np.multiply(a,c)"
   ]
  },
  {
   "cell_type": "code",
   "execution_count": 138,
   "id": "7d021fff",
   "metadata": {},
   "outputs": [
    {
     "data": {
      "text/plain": [
       "array([[0.        , 0.25      , 0.4       ],\n",
       "       [0.5       , 0.57142857, 0.625     ],\n",
       "       [6.        , 3.5       , 2.66666667]])"
      ]
     },
     "execution_count": 138,
     "metadata": {},
     "output_type": "execute_result"
    }
   ],
   "source": [
    "np.divide(a,c)"
   ]
  },
  {
   "cell_type": "code",
   "execution_count": 140,
   "id": "22d09836",
   "metadata": {},
   "outputs": [
    {
     "data": {
      "text/plain": [
       "array([[0, 3, 6],\n",
       "       [1, 4, 7],\n",
       "       [2, 5, 8]])"
      ]
     },
     "execution_count": 140,
     "metadata": {},
     "output_type": "execute_result"
    }
   ],
   "source": [
    "np.transpose(a)"
   ]
  },
  {
   "cell_type": "code",
   "execution_count": 141,
   "id": "00594ab8",
   "metadata": {},
   "outputs": [
    {
     "data": {
      "text/plain": [
       "array([[0, 1, 2],\n",
       "       [3, 4, 5],\n",
       "       [6, 7, 8]])"
      ]
     },
     "execution_count": 141,
     "metadata": {},
     "output_type": "execute_result"
    }
   ],
   "source": [
    "a"
   ]
  },
  {
   "cell_type": "code",
   "execution_count": 142,
   "id": "7d53fee1",
   "metadata": {},
   "outputs": [
    {
     "data": {
      "text/plain": [
       "array([10, 11, 12])"
      ]
     },
     "execution_count": 142,
     "metadata": {},
     "output_type": "execute_result"
    }
   ],
   "source": [
    "b"
   ]
  },
  {
   "cell_type": "code",
   "execution_count": 143,
   "id": "ccb9837b",
   "metadata": {},
   "outputs": [
    {
     "data": {
      "text/plain": [
       "array([[3, 4, 5],\n",
       "       [6, 7, 8],\n",
       "       [1, 2, 3]])"
      ]
     },
     "execution_count": 143,
     "metadata": {},
     "output_type": "execute_result"
    }
   ],
   "source": [
    "c"
   ]
  },
  {
   "cell_type": "code",
   "execution_count": 144,
   "id": "8b3cdb2a",
   "metadata": {},
   "outputs": [
    {
     "data": {
      "text/plain": [
       "array([[10, 12, 14],\n",
       "       [13, 15, 17],\n",
       "       [16, 18, 20]])"
      ]
     },
     "execution_count": 144,
     "metadata": {},
     "output_type": "execute_result"
    }
   ],
   "source": [
    "np.add(a,b)"
   ]
  },
  {
   "cell_type": "code",
   "execution_count": 145,
   "id": "36c4ef4c",
   "metadata": {},
   "outputs": [
    {
     "data": {
      "text/plain": [
       "array([[0, 1, 2],\n",
       "       [3, 4, 5],\n",
       "       [6, 7, 8]])"
      ]
     },
     "execution_count": 145,
     "metadata": {},
     "output_type": "execute_result"
    }
   ],
   "source": [
    "a"
   ]
  },
  {
   "cell_type": "code",
   "execution_count": 147,
   "id": "34ff3201",
   "metadata": {},
   "outputs": [
    {
     "data": {
      "text/plain": [
       "array([[2, 3],\n",
       "       [1, 2]])"
      ]
     },
     "execution_count": 147,
     "metadata": {},
     "output_type": "execute_result"
    }
   ],
   "source": [
    "d=np.array([[2,3],[1,2]])\n",
    "d"
   ]
  },
  {
   "cell_type": "code",
   "execution_count": 149,
   "id": "71f6375a",
   "metadata": {},
   "outputs": [
    {
     "ename": "ValueError",
     "evalue": "operands could not be broadcast together with shapes (3,3) (2,2) ",
     "output_type": "error",
     "traceback": [
      "\u001b[1;31m---------------------------------------------------------------------------\u001b[0m",
      "\u001b[1;31mValueError\u001b[0m                                Traceback (most recent call last)",
      "\u001b[1;32m<ipython-input-149-2827f220a29c>\u001b[0m in \u001b[0;36m<module>\u001b[1;34m\u001b[0m\n\u001b[1;32m----> 1\u001b[1;33m \u001b[0mnp\u001b[0m\u001b[1;33m.\u001b[0m\u001b[0madd\u001b[0m\u001b[1;33m(\u001b[0m\u001b[0ma\u001b[0m\u001b[1;33m,\u001b[0m\u001b[0md\u001b[0m\u001b[1;33m)\u001b[0m\u001b[1;33m\u001b[0m\u001b[1;33m\u001b[0m\u001b[0m\n\u001b[0m",
      "\u001b[1;31mValueError\u001b[0m: operands could not be broadcast together with shapes (3,3) (2,2) "
     ]
    }
   ],
   "source": [
    "np.add(a,d) # it means rows must be same"
   ]
  },
  {
   "cell_type": "code",
   "execution_count": 150,
   "id": "b8a4e41b",
   "metadata": {},
   "outputs": [
    {
     "name": "stdout",
     "output_type": "stream",
     "text": [
      "[[1 2]\n",
      " [3 4]]\n"
     ]
    }
   ],
   "source": [
    "#Joining Array\n",
    "\n",
    "a=np.array([[1,2],[3,4]])\n",
    "print(a)"
   ]
  },
  {
   "cell_type": "code",
   "execution_count": 151,
   "id": "e9e7206f",
   "metadata": {},
   "outputs": [
    {
     "name": "stdout",
     "output_type": "stream",
     "text": [
      "[[5 6]\n",
      " [7 8]\n",
      " [9 4]]\n"
     ]
    }
   ],
   "source": [
    "b=np.array([[5,6],[7,8],[9,4]])\n",
    "print(b)"
   ]
  },
  {
   "cell_type": "code",
   "execution_count": 153,
   "id": "49b5f009",
   "metadata": {
    "scrolled": true
   },
   "outputs": [
    {
     "data": {
      "text/plain": [
       "array([[1, 2],\n",
       "       [3, 4],\n",
       "       [5, 6],\n",
       "       [7, 8],\n",
       "       [9, 4]])"
      ]
     },
     "execution_count": 153,
     "metadata": {},
     "output_type": "execute_result"
    }
   ],
   "source": [
    "\n",
    "np.concatenate((a,b))"
   ]
  },
  {
   "cell_type": "code",
   "execution_count": 154,
   "id": "f077ed5c",
   "metadata": {
    "scrolled": true
   },
   "outputs": [
    {
     "name": "stdout",
     "output_type": "stream",
     "text": [
      "Array 3 - \n",
      " [[0 0]\n",
      " [1 1]]\n",
      "Joining 1, 2 & 3- \n",
      " [[0 0]\n",
      " [1 1]\n",
      " [1 2]\n",
      " [3 4]\n",
      " [5 6]\n",
      " [7 8]\n",
      " [9 4]]\n"
     ]
    }
   ],
   "source": [
    "c = np.array([[0,0],[1,1]])\n",
    "print(\"Array 3 - \\n\" , c)\n",
    "print('Joining 1, 2 & 3- \\n' , np.concatenate((c,a,b)))\n"
   ]
  },
  {
   "cell_type": "code",
   "execution_count": 159,
   "id": "b76ec07f",
   "metadata": {},
   "outputs": [
    {
     "name": "stdout",
     "output_type": "stream",
     "text": [
      "[[1 2]\n",
      " [3 4]]\n",
      "\n",
      "\n",
      "[[5 6 7]\n",
      " [7 8 0]]\n"
     ]
    },
    {
     "ename": "ValueError",
     "evalue": "all the input array dimensions for the concatenation axis must match exactly, but along dimension 1, the array at index 0 has size 2 and the array at index 1 has size 3",
     "output_type": "error",
     "traceback": [
      "\u001b[1;31m---------------------------------------------------------------------------\u001b[0m",
      "\u001b[1;31mValueError\u001b[0m                                Traceback (most recent call last)",
      "\u001b[1;32m<ipython-input-159-15d0286bd1df>\u001b[0m in \u001b[0;36m<module>\u001b[1;34m\u001b[0m\n\u001b[0;32m      4\u001b[0m \u001b[0mprint\u001b[0m\u001b[1;33m(\u001b[0m\u001b[0mb\u001b[0m\u001b[1;33m)\u001b[0m\u001b[1;33m\u001b[0m\u001b[1;33m\u001b[0m\u001b[0m\n\u001b[0;32m      5\u001b[0m \u001b[1;33m\u001b[0m\u001b[0m\n\u001b[1;32m----> 6\u001b[1;33m \u001b[0mnp\u001b[0m\u001b[1;33m.\u001b[0m\u001b[0mconcatenate\u001b[0m\u001b[1;33m(\u001b[0m\u001b[1;33m(\u001b[0m\u001b[0ma\u001b[0m\u001b[1;33m,\u001b[0m\u001b[0mb\u001b[0m\u001b[1;33m)\u001b[0m\u001b[1;33m)\u001b[0m\u001b[1;33m\u001b[0m\u001b[1;33m\u001b[0m\u001b[0m\n\u001b[0m",
      "\u001b[1;32m<__array_function__ internals>\u001b[0m in \u001b[0;36mconcatenate\u001b[1;34m(*args, **kwargs)\u001b[0m\n",
      "\u001b[1;31mValueError\u001b[0m: all the input array dimensions for the concatenation axis must match exactly, but along dimension 1, the array at index 0 has size 2 and the array at index 1 has size 3"
     ]
    }
   ],
   "source": [
    "\n",
    "\n",
    "print(a)\n",
    "print(\"\\n\")\n",
    "b=np.array([[5,6,7],[7,8,0]])\n",
    "print(b)\n",
    "\n",
    "np.concatenate((a,b))"
   ]
  },
  {
   "cell_type": "markdown",
   "id": "d7d0898b",
   "metadata": {},
   "source": [
    "# Axis0 = Row Wise ||  Axis1=Cols wise"
   ]
  },
  {
   "cell_type": "code",
   "execution_count": 158,
   "id": "3a34e601",
   "metadata": {},
   "outputs": [
    {
     "name": "stdout",
     "output_type": "stream",
     "text": [
      "[[1 2]\n",
      " [3 4]]\n",
      "\n",
      "\n",
      "[[5 6 7]\n",
      " [7 8 0]]\n"
     ]
    },
    {
     "data": {
      "text/plain": [
       "array([[1, 2, 5, 6, 7],\n",
       "       [3, 4, 7, 8, 0]])"
      ]
     },
     "execution_count": 158,
     "metadata": {},
     "output_type": "execute_result"
    }
   ],
   "source": [
    "print(a)\n",
    "print(\"\\n\")\n",
    "b=np.array([[5,6,7],[7,8,0]])\n",
    "print(b)\n",
    "\n",
    "np.concatenate((a,b),axis = 1)"
   ]
  },
  {
   "cell_type": "code",
   "execution_count": null,
   "id": "daad3455",
   "metadata": {},
   "outputs": [],
   "source": [
    "# Numpy with string"
   ]
  },
  {
   "cell_type": "code",
   "execution_count": 160,
   "id": "02824de0",
   "metadata": {},
   "outputs": [
    {
     "name": "stdout",
     "output_type": "stream",
     "text": [
      "1\n",
      "1\n",
      "['ab']\n",
      "['cd']\n"
     ]
    }
   ],
   "source": [
    "a=np.array(['ab'])\n",
    "b=np.array(['cd'])\n",
    "\n",
    "print(a.ndim)\n",
    "print(b.ndim)\n",
    "print(a)\n",
    "print(b)"
   ]
  },
  {
   "cell_type": "code",
   "execution_count": 162,
   "id": "0b7dfa53",
   "metadata": {},
   "outputs": [
    {
     "name": "stdout",
     "output_type": "stream",
     "text": [
      "\n",
      " Original Array 1 : \n",
      " [['abc' 'xyz']\n",
      " ['hi' 'hello']]\n",
      "2\n",
      "\n",
      " Original Array 2 : \n",
      " [['123']\n",
      " ['456']]\n",
      "2\n"
     ]
    }
   ],
   "source": [
    "arr_1 = np.array((['abc', 'xyz'], ['hi','hello']))\n",
    "print(\"\\n Original Array 1 : \\n\" , arr_1)\n",
    "print(arr_1.ndim)\n",
    "arr_2 = np.array([['123'] , ['456']])\n",
    "print(\"\\n Original Array 2 : \\n\" , arr_2)\n",
    "print(arr_2.ndim)"
   ]
  },
  {
   "cell_type": "code",
   "execution_count": 231,
   "id": "219bb04a",
   "metadata": {},
   "outputs": [
    {
     "data": {
      "text/plain": [
       "array([['abc123', 'xyz123'],\n",
       "       ['hi456', 'hello456']], dtype='<U8')"
      ]
     },
     "execution_count": 231,
     "metadata": {},
     "output_type": "execute_result"
    }
   ],
   "source": [
    "np.char.add(arr_1,arr_2)"
   ]
  },
  {
   "cell_type": "code",
   "execution_count": 165,
   "id": "f670bd92",
   "metadata": {},
   "outputs": [
    {
     "name": "stdout",
     "output_type": "stream",
     "text": [
      "1\n",
      "1\n",
      "['ab']\n",
      "['cd']\n"
     ]
    },
    {
     "data": {
      "text/plain": [
       "array(['abcd'], dtype='<U4')"
      ]
     },
     "execution_count": 165,
     "metadata": {},
     "output_type": "execute_result"
    }
   ],
   "source": [
    "a=np.array(['ab'])\n",
    "b=np.array(['cd'])\n",
    "\n",
    "print(a.ndim)\n",
    "print(b.ndim)\n",
    "print(a)\n",
    "print(b)\n",
    "\n",
    "np.char.add(a,b)"
   ]
  },
  {
   "cell_type": "code",
   "execution_count": 166,
   "id": "5d8c7f9d",
   "metadata": {},
   "outputs": [
    {
     "name": "stdout",
     "output_type": "stream",
     "text": [
      "['I am going to market']\n"
     ]
    }
   ],
   "source": [
    "# CAPITILIZING\n",
    "\n",
    "a=np.array(['i am going to market'])\n",
    "print(np.char.capitalize(a))"
   ]
  },
  {
   "cell_type": "code",
   "execution_count": 167,
   "id": "03627d14",
   "metadata": {},
   "outputs": [
    {
     "name": "stdout",
     "output_type": "stream",
     "text": [
      "\n",
      "Original Array : \n",
      " [['MEN will be men' 'Imperial BLUE']\n",
      " ['think different' 'apple']\n",
      " ['designed for drivng pleasure' 'BMW']]\n",
      "\n",
      "After .capitalize Array : \n",
      " [['Men will be men' 'Imperial blue']\n",
      " ['Think different' 'Apple']\n",
      " ['Designed for drivng pleasure' 'Bmw']]\n"
     ]
    }
   ],
   "source": [
    "word = np.array([['MEN will be men', 'Imperial BLUE'], ['think different' , 'apple'], ['designed for drivng pleasure', 'BMW']])\n",
    "print(\"\\nOriginal Array : \\n\" , word)\n",
    "\n",
    "\n",
    "word_cap = np.char.capitalize(word)\n",
    "print(\"\\nAfter .capitalize Array : \\n\" , word_cap)\n"
   ]
  },
  {
   "cell_type": "code",
   "execution_count": null,
   "id": "12b83109",
   "metadata": {},
   "outputs": [],
   "source": [
    "# Converting LOWER CASE AND UPPERCASE"
   ]
  },
  {
   "cell_type": "code",
   "execution_count": 168,
   "id": "d2477fff",
   "metadata": {},
   "outputs": [
    {
     "name": "stdout",
     "output_type": "stream",
     "text": [
      "['hello' 'world']\n"
     ]
    }
   ],
   "source": [
    "a=np.char.lower(['HeLLO','WORlD'])\n",
    "print(a)"
   ]
  },
  {
   "cell_type": "code",
   "execution_count": 169,
   "id": "e9ce38c3",
   "metadata": {},
   "outputs": [
    {
     "name": "stdout",
     "output_type": "stream",
     "text": [
      "['HELLO' 'WORLD']\n"
     ]
    }
   ],
   "source": [
    "a=np.char.upper(['HeLLO','WORlD'])\n",
    "print(a)"
   ]
  },
  {
   "cell_type": "code",
   "execution_count": 171,
   "id": "56ecd7e2",
   "metadata": {},
   "outputs": [],
   "source": [
    "#Splitting the String\n",
    "\n",
    "s=np.char.split([\"Hey there how are you?\"])\n"
   ]
  },
  {
   "cell_type": "code",
   "execution_count": 177,
   "id": "89649706",
   "metadata": {},
   "outputs": [
    {
     "data": {
      "text/plain": [
       "array([list(['Hey', 'there', 'how', 'are', 'you?'])], dtype=object)"
      ]
     },
     "execution_count": 177,
     "metadata": {},
     "output_type": "execute_result"
    }
   ],
   "source": [
    "s"
   ]
  },
  {
   "cell_type": "code",
   "execution_count": 175,
   "id": "0334038a",
   "metadata": {},
   "outputs": [
    {
     "data": {
      "text/plain": [
       "'there'"
      ]
     },
     "execution_count": 175,
     "metadata": {},
     "output_type": "execute_result"
    }
   ],
   "source": [
    "s[0][1]"
   ]
  },
  {
   "cell_type": "code",
   "execution_count": 178,
   "id": "d7f184df",
   "metadata": {},
   "outputs": [
    {
     "name": "stdout",
     "output_type": "stream",
     "text": [
      "[list(['Hey', 'there', 'how are you?'])]\n"
     ]
    }
   ],
   "source": [
    "s1=np.char.split([\"Hey,there,how are you?\"],sep=',')\n",
    "print(s1)\n"
   ]
  },
  {
   "cell_type": "code",
   "execution_count": 179,
   "id": "24454ad3",
   "metadata": {},
   "outputs": [
    {
     "name": "stdout",
     "output_type": "stream",
     "text": [
      "[list(['Good morning ', ' to all ', ' the participants ', ' hope u are enjoying ', ' the session'])]\n"
     ]
    }
   ],
   "source": [
    "# \" Good morning $ to all $ the participants $ hope u are enjoying $ the session \"\n",
    "print(np.char.split(['Good morning OF to all OF the participants OF hope u are enjoying OF the session'], sep = 'OF'))\n"
   ]
  },
  {
   "cell_type": "code",
   "execution_count": 183,
   "id": "6b1fdc61",
   "metadata": {},
   "outputs": [
    {
     "name": "stdout",
     "output_type": "stream",
     "text": [
      "['ell' 'hen' 'Ho']\n"
     ]
    }
   ],
   "source": [
    "#Strip\n",
    "\n",
    "print(np.char.strip(['Well','When','HoW'],'W'))"
   ]
  },
  {
   "cell_type": "code",
   "execution_count": 189,
   "id": "cb5270c5",
   "metadata": {},
   "outputs": [
    {
     "name": "stdout",
     "output_type": "stream",
     "text": [
      "['ellWl' 'hen' 'Ho']\n"
     ]
    }
   ],
   "source": [
    "print(np.char.strip(['WellWl','WWhen','HoW'],'W'))"
   ]
  },
  {
   "cell_type": "code",
   "execution_count": 190,
   "id": "5ab22a36",
   "metadata": {},
   "outputs": [
    {
     "name": "stdout",
     "output_type": "stream",
     "text": [
      "['ellWl' 'hen' 'Ho']\n"
     ]
    }
   ],
   "source": [
    "print(np.char.strip(['WellWl','WWhen','HoW'],'W'))"
   ]
  },
  {
   "cell_type": "code",
   "execution_count": 191,
   "id": "0d527392",
   "metadata": {},
   "outputs": [
    {
     "name": "stdout",
     "output_type": "stream",
     "text": [
      "['asdsa' 'drain' 'ain']\n"
     ]
    }
   ],
   "source": [
    "print(np.char.strip(['asdsar','drain','rain'],'r'))"
   ]
  },
  {
   "cell_type": "code",
   "execution_count": 192,
   "id": "97ae6801",
   "metadata": {},
   "outputs": [
    {
     "name": "stdout",
     "output_type": "stream",
     "text": [
      "\n",
      "Original Array : \n",
      " [['red' 'rome']\n",
      " ['rain' 'drain']\n",
      " ['drape' 'bear']]\n",
      "\n",
      "After .strip Array : \n",
      " [['ed' 'ome']\n",
      " ['ain' 'drain']\n",
      " ['drape' 'bea']]\n"
     ]
    }
   ],
   "source": [
    "string = np.array([['red', 'rome'], ['rain' , 'drain'], ['drape', 'bear']])\n",
    "print(\"\\nOriginal Array : \\n\" , string)\n",
    "\n",
    "\n",
    "word_strip = np.char.strip(string, 'r')\n",
    "print(\"\\nAfter .strip Array : \\n\" , word_strip)\n"
   ]
  },
  {
   "cell_type": "code",
   "execution_count": 193,
   "id": "96e541cf",
   "metadata": {},
   "outputs": [
    {
     "name": "stdout",
     "output_type": "stream",
     "text": [
      "\n",
      "Original Array : \n",
      " [['He wants to be a traveller.' 'He travels.']\n",
      " ['He paints.' 'He wants to be a painter.']]\n",
      "\n",
      "After .replace Array : \n",
      " [['He is a  a traveller.' 'He travels.']\n",
      " ['He paints.' 'He is a  a painter.']]\n"
     ]
    }
   ],
   "source": [
    "sentence = np.array([['He wants to be a traveller.', 'He travels.'], ['He paints.' , 'He wants to be a painter.']])\n",
    "print(\"\\nOriginal Array : \\n\" , sentence)\n",
    "\n",
    "\n",
    "replace_ = np.char.replace(sentence, 'wants to be', 'is a ')\n",
    "print(\"\\nAfter .replace Array : \\n\" , replace_)\n"
   ]
  },
  {
   "cell_type": "code",
   "execution_count": 3,
   "id": "c89a86e3",
   "metadata": {},
   "outputs": [
    {
     "name": "stdout",
     "output_type": "stream",
     "text": [
      "[4 5 6 8 9]\n"
     ]
    }
   ],
   "source": [
    "import numpy as np\n",
    "\n",
    "c=np.array([4,5,6,8,9])\n",
    "print(c)\n"
   ]
  },
  {
   "cell_type": "code",
   "execution_count": 9,
   "id": "7c4684bd",
   "metadata": {},
   "outputs": [
    {
     "name": "stdout",
     "output_type": "stream",
     "text": [
      "[6 8 9]\n"
     ]
    }
   ],
   "source": [
    "print (c[-3:])"
   ]
  },
  {
   "cell_type": "code",
   "execution_count": null,
   "id": "77a7d46b",
   "metadata": {},
   "outputs": [],
   "source": []
  },
  {
   "cell_type": "code",
   "execution_count": null,
   "id": "7dfb473a",
   "metadata": {},
   "outputs": [],
   "source": []
  },
  {
   "cell_type": "code",
   "execution_count": null,
   "id": "afac96c0",
   "metadata": {},
   "outputs": [],
   "source": []
  }
 ],
 "metadata": {
  "kernelspec": {
   "display_name": "Python 3",
   "language": "python",
   "name": "python3"
  },
  "language_info": {
   "codemirror_mode": {
    "name": "ipython",
    "version": 3
   },
   "file_extension": ".py",
   "mimetype": "text/x-python",
   "name": "python",
   "nbconvert_exporter": "python",
   "pygments_lexer": "ipython3",
   "version": "3.8.8"
  }
 },
 "nbformat": 4,
 "nbformat_minor": 5
}
